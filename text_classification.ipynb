{
  "nbformat": 4,
  "nbformat_minor": 0,
  "metadata": {
    "colab": {
      "name": "text_classification.ipynb",
      "provenance": [],
      "collapsed_sections": [],
      "include_colab_link": true
    },
    "kernelspec": {
      "name": "python3",
      "display_name": "Python 3"
    },
    "accelerator": "GPU"
  },
  "cells": [
    {
      "cell_type": "markdown",
      "metadata": {
        "id": "view-in-github",
        "colab_type": "text"
      },
      "source": [
        "<a href=\"https://colab.research.google.com/github/shkhrkat/Kubric/blob/main/text_classification.ipynb\" target=\"_parent\"><img src=\"https://colab.research.google.com/assets/colab-badge.svg\" alt=\"Open In Colab\"/></a>"
      ]
    },
    {
      "cell_type": "markdown",
      "metadata": {
        "id": "x8qnZVNX7wxj"
      },
      "source": [
        "# **Problem Statement**\n",
        "\n",
        "> The objective of this task is to detect **negative reviews** in the dataset. \n",
        "> Formally, given a training sample of reviews and labels, where label ‘1’ denotes the review is **negative** and label ‘0’ denotes the tweet is **positive or neutral**."
      ]
    },
    {
      "cell_type": "markdown",
      "metadata": {
        "id": "XgJ3EQFSBj8C"
      },
      "source": [
        "# **Table of Contents**\n",
        "\n",
        "1. **Dataset Preparation**: The first step is the Dataset Preparation step which includes the process of loading a dataset and performing basic pre-processing. The dataset is then splitted into train and validation sets.\n",
        "\n",
        "2. **Feature Engineering**: The next step is the Feature Engineering in which the raw dataset is transformed into flat features which can be used in a machine learning model. This step also includes the process of creating new features from the existing data.\n",
        "\n",
        "3. **Model Training**: The final step is the Model Building step in which a machine learning model is trained on a labelled dataset."
      ]
    },
    {
      "cell_type": "code",
      "metadata": {
        "id": "riKyvLVhNK8i"
      },
      "source": [
        "import pandas as pd\n",
        "import numpy as np\n",
        "from nltk.corpus import stopwords\n",
        "import re\n",
        "import os\n",
        "from bs4 import BeautifulSoup\n",
        "from sklearn import model_selection, preprocessing, linear_model, naive_bayes, metrics, svm\n",
        "from sklearn.feature_extraction.text import TfidfVectorizer, CountVectorizer\n",
        "from sklearn import decomposition, ensemble\n",
        "import xgboost, textblob, string\n",
        "from tensorflow.keras.preprocessing import text, sequence"
      ],
      "execution_count": null,
      "outputs": []
    },
    {
      "cell_type": "markdown",
      "metadata": {
        "id": "ydhU5evQDM42"
      },
      "source": [
        "# 1. **Dataset Preparation**\n",
        ">For the purpose of this project, I am the using dataset of **Amazon fine food reviews** which is avaliable on kaggle. The dataset contains around 500,000 reviews and other relevant data. But for this project we will only use 50,000 reviews due to lack of computational power"
      ]
    },
    {
      "cell_type": "markdown",
      "metadata": {
        "id": "-UckNyMnE6ZV"
      },
      "source": [
        "## 1.1 Get Dataset\n",
        "> Dataset from kaggle can be directly imported in Google Colab"
      ]
    },
    {
      "cell_type": "code",
      "metadata": {
        "colab": {
          "base_uri": "https://localhost:8080/"
        },
        "id": "r0XtFLavFmFa",
        "outputId": "d070dcae-c967-46f3-e130-08e284417d60"
      },
      "source": [
        "!mkdir ~/.kaggle\n",
        "!echo '{\"username\":\"keshav1805\",\"key\":\"cb831913b2d58060afc3afc1e2d53e0f\"}' > ~/.kaggle/kaggle.json\n",
        "!chmod 600 ~/.kaggle/kaggle.json\n",
        "!pip install kaggle"
      ],
      "execution_count": null,
      "outputs": [
        {
          "output_type": "stream",
          "text": [
            "Requirement already satisfied: kaggle in /usr/local/lib/python3.6/dist-packages (1.5.10)\n",
            "Requirement already satisfied: six>=1.10 in /usr/local/lib/python3.6/dist-packages (from kaggle) (1.15.0)\n",
            "Requirement already satisfied: urllib3 in /usr/local/lib/python3.6/dist-packages (from kaggle) (1.24.3)\n",
            "Requirement already satisfied: python-dateutil in /usr/local/lib/python3.6/dist-packages (from kaggle) (2.8.1)\n",
            "Requirement already satisfied: requests in /usr/local/lib/python3.6/dist-packages (from kaggle) (2.23.0)\n",
            "Requirement already satisfied: certifi in /usr/local/lib/python3.6/dist-packages (from kaggle) (2020.12.5)\n",
            "Requirement already satisfied: python-slugify in /usr/local/lib/python3.6/dist-packages (from kaggle) (4.0.1)\n",
            "Requirement already satisfied: tqdm in /usr/local/lib/python3.6/dist-packages (from kaggle) (4.41.1)\n",
            "Requirement already satisfied: chardet<4,>=3.0.2 in /usr/local/lib/python3.6/dist-packages (from requests->kaggle) (3.0.4)\n",
            "Requirement already satisfied: idna<3,>=2.5 in /usr/local/lib/python3.6/dist-packages (from requests->kaggle) (2.10)\n",
            "Requirement already satisfied: text-unidecode>=1.3 in /usr/local/lib/python3.6/dist-packages (from python-slugify->kaggle) (1.3)\n"
          ],
          "name": "stdout"
        }
      ]
    },
    {
      "cell_type": "code",
      "metadata": {
        "colab": {
          "base_uri": "https://localhost:8080/"
        },
        "id": "r_1VoidnFvUc",
        "outputId": "c8346b6c-eebd-4140-9332-c34517d1882f"
      },
      "source": [
        "!kaggle datasets download -d snap/amazon-fine-food-reviews"
      ],
      "execution_count": null,
      "outputs": [
        {
          "output_type": "stream",
          "text": [
            "Downloading amazon-fine-food-reviews.zip to /content\n",
            " 96% 233M/242M [00:02<00:00, 107MB/s]\n",
            "100% 242M/242M [00:02<00:00, 107MB/s]\n"
          ],
          "name": "stdout"
        }
      ]
    },
    {
      "cell_type": "code",
      "metadata": {
        "colab": {
          "base_uri": "https://localhost:8080/"
        },
        "id": "kpO2Y3DjF9sJ",
        "outputId": "ec288fe6-ae0a-414b-f79a-4dd4eaadc052"
      },
      "source": [
        "!unzip amazon-fine-food-reviews.zip -d amazon-fine-food-reviews"
      ],
      "execution_count": null,
      "outputs": [
        {
          "output_type": "stream",
          "text": [
            "Archive:  amazon-fine-food-reviews.zip\n",
            "  inflating: amazon-fine-food-reviews/Reviews.csv  \n",
            "  inflating: amazon-fine-food-reviews/database.sqlite  \n",
            "  inflating: amazon-fine-food-reviews/hashes.txt  \n"
          ],
          "name": "stdout"
        }
      ]
    },
    {
      "cell_type": "code",
      "metadata": {
        "colab": {
          "base_uri": "https://localhost:8080/",
          "height": 97
        },
        "id": "-idoUbXjGFdp",
        "outputId": "7db8ddfc-286e-4f3c-de06-c0842022dfac"
      },
      "source": [
        "data = pd.read_csv(\"/content/amazon-fine-food-reviews/Reviews.csv\",nrows=50000)\n",
        "data.head(1)"
      ],
      "execution_count": null,
      "outputs": [
        {
          "output_type": "execute_result",
          "data": {
            "text/html": [
              "<div>\n",
              "<style scoped>\n",
              "    .dataframe tbody tr th:only-of-type {\n",
              "        vertical-align: middle;\n",
              "    }\n",
              "\n",
              "    .dataframe tbody tr th {\n",
              "        vertical-align: top;\n",
              "    }\n",
              "\n",
              "    .dataframe thead th {\n",
              "        text-align: right;\n",
              "    }\n",
              "</style>\n",
              "<table border=\"1\" class=\"dataframe\">\n",
              "  <thead>\n",
              "    <tr style=\"text-align: right;\">\n",
              "      <th></th>\n",
              "      <th>Id</th>\n",
              "      <th>ProductId</th>\n",
              "      <th>UserId</th>\n",
              "      <th>ProfileName</th>\n",
              "      <th>HelpfulnessNumerator</th>\n",
              "      <th>HelpfulnessDenominator</th>\n",
              "      <th>Score</th>\n",
              "      <th>Time</th>\n",
              "      <th>Summary</th>\n",
              "      <th>Text</th>\n",
              "    </tr>\n",
              "  </thead>\n",
              "  <tbody>\n",
              "    <tr>\n",
              "      <th>0</th>\n",
              "      <td>1</td>\n",
              "      <td>B001E4KFG0</td>\n",
              "      <td>A3SGXH7AUHU8GW</td>\n",
              "      <td>delmartian</td>\n",
              "      <td>1</td>\n",
              "      <td>1</td>\n",
              "      <td>5</td>\n",
              "      <td>1303862400</td>\n",
              "      <td>Good Quality Dog Food</td>\n",
              "      <td>I have bought several of the Vitality canned d...</td>\n",
              "    </tr>\n",
              "  </tbody>\n",
              "</table>\n",
              "</div>"
            ],
            "text/plain": [
              "   Id  ...                                               Text\n",
              "0   1  ...  I have bought several of the Vitality canned d...\n",
              "\n",
              "[1 rows x 10 columns]"
            ]
          },
          "metadata": {
            "tags": []
          },
          "execution_count": 5
        }
      ]
    },
    {
      "cell_type": "markdown",
      "metadata": {
        "id": "K2mLuQYHHTzb"
      },
      "source": [
        "But we don't need columns except\n",
        "\n",
        "* Text\n",
        "* Summary\n",
        "* Score"
      ]
    },
    {
      "cell_type": "code",
      "metadata": {
        "colab": {
          "base_uri": "https://localhost:8080/",
          "height": 80
        },
        "id": "OtbIu_apHszP",
        "outputId": "73a4139b-55ff-46e2-f9e0-d2346d992766"
      },
      "source": [
        "data.drop(['Id','ProductId','UserId','ProfileName','HelpfulnessNumerator','HelpfulnessDenominator','Time'], axis = 1, inplace=True)\n",
        "data.head(1)"
      ],
      "execution_count": null,
      "outputs": [
        {
          "output_type": "execute_result",
          "data": {
            "text/html": [
              "<div>\n",
              "<style scoped>\n",
              "    .dataframe tbody tr th:only-of-type {\n",
              "        vertical-align: middle;\n",
              "    }\n",
              "\n",
              "    .dataframe tbody tr th {\n",
              "        vertical-align: top;\n",
              "    }\n",
              "\n",
              "    .dataframe thead th {\n",
              "        text-align: right;\n",
              "    }\n",
              "</style>\n",
              "<table border=\"1\" class=\"dataframe\">\n",
              "  <thead>\n",
              "    <tr style=\"text-align: right;\">\n",
              "      <th></th>\n",
              "      <th>Score</th>\n",
              "      <th>Summary</th>\n",
              "      <th>Text</th>\n",
              "    </tr>\n",
              "  </thead>\n",
              "  <tbody>\n",
              "    <tr>\n",
              "      <th>0</th>\n",
              "      <td>5</td>\n",
              "      <td>Good Quality Dog Food</td>\n",
              "      <td>I have bought several of the Vitality canned d...</td>\n",
              "    </tr>\n",
              "  </tbody>\n",
              "</table>\n",
              "</div>"
            ],
            "text/plain": [
              "   Score  ...                                               Text\n",
              "0      5  ...  I have bought several of the Vitality canned d...\n",
              "\n",
              "[1 rows x 3 columns]"
            ]
          },
          "metadata": {
            "tags": []
          },
          "execution_count": 6
        }
      ]
    },
    {
      "cell_type": "code",
      "metadata": {
        "id": "fTX78IqRH4O7"
      },
      "source": [
        "data.drop_duplicates(subset=['Text'],inplace=True)  #dropping duplicates\n",
        "data.dropna(axis=0,inplace=True)"
      ],
      "execution_count": null,
      "outputs": []
    },
    {
      "cell_type": "markdown",
      "metadata": {
        "id": "HKzvHW-oKfvK"
      },
      "source": [
        "## 1.2 Data Preprocessing"
      ]
    },
    {
      "cell_type": "code",
      "metadata": {
        "id": "sEAVPJeZKRdZ"
      },
      "source": [
        "contraction_mapping = {\"ain't\": \"is not\", \"aren't\": \"are not\",\"can't\": \"cannot\", \"'cause\": \"because\", \"could've\": \"could have\", \"couldn't\": \"could not\",\n",
        "\n",
        "                           \"didn't\": \"did not\", \"doesn't\": \"does not\", \"don't\": \"do not\", \"hadn't\": \"had not\", \"hasn't\": \"has not\", \"haven't\": \"have not\",\n",
        "\n",
        "                           \"he'd\": \"he would\",\"he'll\": \"he will\", \"he's\": \"he is\", \"how'd\": \"how did\", \"how'd'y\": \"how do you\", \"how'll\": \"how will\", \"how's\": \"how is\",\n",
        "\n",
        "                           \"I'd\": \"I would\", \"I'd've\": \"I would have\", \"I'll\": \"I will\", \"I'll've\": \"I will have\",\"I'm\": \"I am\", \"I've\": \"I have\", \"i'd\": \"i would\",\n",
        "\n",
        "                           \"i'd've\": \"i would have\", \"i'll\": \"i will\",  \"i'll've\": \"i will have\",\"i'm\": \"i am\", \"i've\": \"i have\", \"isn't\": \"is not\", \"it'd\": \"it would\",\n",
        "\n",
        "                           \"it'd've\": \"it would have\", \"it'll\": \"it will\", \"it'll've\": \"it will have\",\"it's\": \"it is\", \"let's\": \"let us\", \"ma'am\": \"madam\",\n",
        "\n",
        "                           \"mayn't\": \"may not\", \"might've\": \"might have\",\"mightn't\": \"might not\",\"mightn't've\": \"might not have\", \"must've\": \"must have\",\n",
        "\n",
        "                           \"mustn't\": \"must not\", \"mustn't've\": \"must not have\", \"needn't\": \"need not\", \"needn't've\": \"need not have\",\"o'clock\": \"of the clock\",\n",
        "\n",
        "                           \"oughtn't\": \"ought not\", \"oughtn't've\": \"ought not have\", \"shan't\": \"shall not\", \"sha'n't\": \"shall not\", \"shan't've\": \"shall not have\",\n",
        "\n",
        "                           \"she'd\": \"she would\", \"she'd've\": \"she would have\", \"she'll\": \"she will\", \"she'll've\": \"she will have\", \"she's\": \"she is\",\n",
        "\n",
        "                           \"should've\": \"should have\", \"shouldn't\": \"should not\", \"shouldn't've\": \"should not have\", \"so've\": \"so have\",\"so's\": \"so as\",\n",
        "\n",
        "                           \"this's\": \"this is\",\"that'd\": \"that would\", \"that'd've\": \"that would have\", \"that's\": \"that is\", \"there'd\": \"there would\",\n",
        "\n",
        "                           \"there'd've\": \"there would have\", \"there's\": \"there is\", \"here's\": \"here is\",\"they'd\": \"they would\", \"they'd've\": \"they would have\",\n",
        "\n",
        "                           \"they'll\": \"they will\", \"they'll've\": \"they will have\", \"they're\": \"they are\", \"they've\": \"they have\", \"to've\": \"to have\",\n",
        "\n",
        "                           \"wasn't\": \"was not\", \"we'd\": \"we would\", \"we'd've\": \"we would have\", \"we'll\": \"we will\", \"we'll've\": \"we will have\", \"we're\": \"we are\",\n",
        "\n",
        "                           \"we've\": \"we have\", \"weren't\": \"were not\", \"what'll\": \"what will\", \"what'll've\": \"what will have\", \"what're\": \"what are\",\n",
        "\n",
        "                           \"what's\": \"what is\", \"what've\": \"what have\", \"when's\": \"when is\", \"when've\": \"when have\", \"where'd\": \"where did\", \"where's\": \"where is\",\n",
        "\n",
        "                           \"where've\": \"where have\", \"who'll\": \"who will\", \"who'll've\": \"who will have\", \"who's\": \"who is\", \"who've\": \"who have\",\n",
        "\n",
        "                           \"why's\": \"why is\", \"why've\": \"why have\", \"will've\": \"will have\", \"won't\": \"will not\", \"won't've\": \"will not have\",\n",
        "\n",
        "                           \"would've\": \"would have\", \"wouldn't\": \"would not\", \"wouldn't've\": \"would not have\", \"y'all\": \"you all\",\n",
        "\n",
        "                           \"y'all'd\": \"you all would\",\"y'all'd've\": \"you all would have\",\"y'all're\": \"you all are\",\"y'all've\": \"you all have\",\n",
        "\n",
        "                           \"you'd\": \"you would\", \"you'd've\": \"you would have\", \"you'll\": \"you will\", \"you'll've\": \"you will have\",\n",
        "\n",
        "                           \"you're\": \"you are\", \"you've\": \"you have\"}\n"
      ],
      "execution_count": null,
      "outputs": []
    },
    {
      "cell_type": "markdown",
      "metadata": {
        "id": "16yd0piLK5fK"
      },
      "source": [
        "###Text Cleaning\n",
        "\n",
        ">We will perform the below preprocessing tasks for our data:\n",
        "\n",
        "* Convert everything to lowercase\n",
        "* Remove HTML tags\n",
        "* Contraction mapping\n",
        "* Remove (‘s)\n",
        "* Remove any text inside the parenthesis ( )\n",
        "* Eliminate punctuations and special characters\n",
        "* Remove stopwords\n",
        "* Remove short words"
      ]
    },
    {
      "cell_type": "code",
      "metadata": {
        "id": "t7BXOCzEK4zP",
        "colab": {
          "base_uri": "https://localhost:8080/"
        },
        "outputId": "0af4ad83-a0dd-43ef-8494-01b50ab1a913"
      },
      "source": [
        "import nltk\n",
        "nltk.download('stopwords')\n",
        "stop_words = set(stopwords.words('english'))"
      ],
      "execution_count": null,
      "outputs": [
        {
          "output_type": "stream",
          "text": [
            "[nltk_data] Downloading package stopwords to /root/nltk_data...\n",
            "[nltk_data]   Unzipping corpora/stopwords.zip.\n"
          ],
          "name": "stdout"
        }
      ]
    },
    {
      "cell_type": "code",
      "metadata": {
        "id": "FxsBEDB5L7qA"
      },
      "source": [
        "def text_cleaner(text):\n",
        "    newString = text.lower()\n",
        "    newString = BeautifulSoup(newString, \"lxml\").text\n",
        "    newString = re.sub(r'\\([^)]*\\)', '', newString)\n",
        "    newString = re.sub('\"','', newString)\n",
        "    newString = ' '.join([contraction_mapping[t] if t in contraction_mapping else t for t in newString.split(\" \")])    \n",
        "    newString = re.sub(r\"'s\\b\",\"\",newString)\n",
        "    newString = re.sub(\"[^a-zA-Z]\", \" \", newString) \n",
        "    tokens = [w for w in newString.split() if not w in stop_words]\n",
        "    long_words=[]\n",
        "    for i in tokens:\n",
        "        if len(i)>=3:\n",
        "            long_words.append(i)   \n",
        "    return (\" \".join(long_words)).strip()"
      ],
      "execution_count": null,
      "outputs": []
    },
    {
      "cell_type": "code",
      "metadata": {
        "id": "1kBSHP7nNkiC"
      },
      "source": [
        "cleaned_text = []\n",
        "for text in data['Text']:\n",
        "    cleaned_text.append(text_cleaner(text))"
      ],
      "execution_count": null,
      "outputs": []
    },
    {
      "cell_type": "code",
      "metadata": {
        "id": "1umg9Mf3N6V9"
      },
      "source": [
        "cleaned_summary = []\n",
        "for text in data['Summary']:\n",
        "    cleaned_summary.append(text_cleaner(text))"
      ],
      "execution_count": null,
      "outputs": []
    },
    {
      "cell_type": "code",
      "metadata": {
        "id": "VoJOVtY2zFMA"
      },
      "source": [
        "data['Text']=cleaned_text\n",
        "data['Summary']=cleaned_summary\n",
        "data['Summary'].replace('', np.nan, inplace=True)\n",
        "data.dropna(axis=0,inplace=True)"
      ],
      "execution_count": null,
      "outputs": []
    },
    {
      "cell_type": "code",
      "metadata": {
        "colab": {
          "base_uri": "https://localhost:8080/",
          "height": 204
        },
        "id": "4fRg_82vzmYl",
        "outputId": "324d7cd7-2763-4592-b380-b635c5a01d6b"
      },
      "source": [
        "data[:5]"
      ],
      "execution_count": null,
      "outputs": [
        {
          "output_type": "execute_result",
          "data": {
            "text/html": [
              "<div>\n",
              "<style scoped>\n",
              "    .dataframe tbody tr th:only-of-type {\n",
              "        vertical-align: middle;\n",
              "    }\n",
              "\n",
              "    .dataframe tbody tr th {\n",
              "        vertical-align: top;\n",
              "    }\n",
              "\n",
              "    .dataframe thead th {\n",
              "        text-align: right;\n",
              "    }\n",
              "</style>\n",
              "<table border=\"1\" class=\"dataframe\">\n",
              "  <thead>\n",
              "    <tr style=\"text-align: right;\">\n",
              "      <th></th>\n",
              "      <th>Score</th>\n",
              "      <th>Summary</th>\n",
              "      <th>Text</th>\n",
              "    </tr>\n",
              "  </thead>\n",
              "  <tbody>\n",
              "    <tr>\n",
              "      <th>0</th>\n",
              "      <td>5</td>\n",
              "      <td>good quality dog food</td>\n",
              "      <td>bought several vitality canned dog food produc...</td>\n",
              "    </tr>\n",
              "    <tr>\n",
              "      <th>1</th>\n",
              "      <td>1</td>\n",
              "      <td>advertised</td>\n",
              "      <td>product arrived labeled jumbo salted peanuts p...</td>\n",
              "    </tr>\n",
              "    <tr>\n",
              "      <th>2</th>\n",
              "      <td>4</td>\n",
              "      <td>delight says</td>\n",
              "      <td>confection around centuries light pillowy citr...</td>\n",
              "    </tr>\n",
              "    <tr>\n",
              "      <th>3</th>\n",
              "      <td>2</td>\n",
              "      <td>cough medicine</td>\n",
              "      <td>looking secret ingredient robitussin believe f...</td>\n",
              "    </tr>\n",
              "    <tr>\n",
              "      <th>4</th>\n",
              "      <td>5</td>\n",
              "      <td>great taffy</td>\n",
              "      <td>great taffy great price wide assortment yummy ...</td>\n",
              "    </tr>\n",
              "  </tbody>\n",
              "</table>\n",
              "</div>"
            ],
            "text/plain": [
              "   Score  ...                                               Text\n",
              "0      5  ...  bought several vitality canned dog food produc...\n",
              "1      1  ...  product arrived labeled jumbo salted peanuts p...\n",
              "2      4  ...  confection around centuries light pillowy citr...\n",
              "3      2  ...  looking secret ingredient robitussin believe f...\n",
              "4      5  ...  great taffy great price wide assortment yummy ...\n",
              "\n",
              "[5 rows x 3 columns]"
            ]
          },
          "metadata": {
            "tags": []
          },
          "execution_count": 14
        }
      ]
    },
    {
      "cell_type": "markdown",
      "metadata": {
        "id": "04qZbviVOWiV"
      },
      "source": [
        "### Generate Target (Y)\n",
        "> Raw dataset doesn't have any 0's and 1's from which we can classify a review as positive or negative. But dataset has provided the star ratings along with reviews. \n",
        "\n",
        ">Ratings of reviews range from 1 to 5. So, we will group reviews of rating (1,2) as **negative**, (3) as **neutral** and (4,5) as **positive**.\n",
        "\n",
        ">That means target of a **positive** review is **[0 0 1]**, of a **neutral** is **[0 1 0]** and of a **negative** is **[1 0 0]**"
      ]
    },
    {
      "cell_type": "code",
      "metadata": {
        "id": "tLs2Y7MS2R3e"
      },
      "source": [
        "def generate_y(score):\n",
        "  x = np.zeros(3)\n",
        "  if score > 3:\n",
        "    x[2] = 1\n",
        "  elif score < 3:\n",
        "    x[0] = 1\n",
        "  else:\n",
        "    x[1] = 1\n",
        "  return x"
      ],
      "execution_count": null,
      "outputs": []
    },
    {
      "cell_type": "code",
      "metadata": {
        "colab": {
          "base_uri": "https://localhost:8080/"
        },
        "id": "ep6PE7j6OI50",
        "outputId": "ee3616fb-bf78-4715-8c24-682adb230a2e"
      },
      "source": [
        "score = list(data['Score'])\n",
        "target_y = np.zeros((len(score), 3))\n",
        "count = [0]*3\n",
        "\n",
        "for i in range(len(score)):\n",
        "  if score[i] == 3:\n",
        "    target_y[i,1] = 1\n",
        "    count[1] += 1\n",
        "  elif score[i] > 3:\n",
        "    target_y[i,2] = 1\n",
        "    count[2] += 1\n",
        "  elif score[i] < 3: \n",
        "    target_y[i,0] = 1\n",
        "    count[0] += 1\n",
        "count"
      ],
      "execution_count": null,
      "outputs": [
        {
          "output_type": "execute_result",
          "data": {
            "text/plain": [
              "[6891, 3624, 35419]"
            ]
          },
          "metadata": {
            "tags": []
          },
          "execution_count": 16
        }
      ]
    },
    {
      "cell_type": "code",
      "metadata": {
        "colab": {
          "base_uri": "https://localhost:8080/"
        },
        "id": "YIvSnf-k5mAE",
        "outputId": "a11eecb8-f138-4342-ce11-68e3013b9637"
      },
      "source": [
        "count[:-1]"
      ],
      "execution_count": null,
      "outputs": [
        {
          "output_type": "execute_result",
          "data": {
            "text/plain": [
              "[6891, 3624]"
            ]
          },
          "metadata": {
            "tags": []
          },
          "execution_count": 17
        }
      ]
    },
    {
      "cell_type": "code",
      "metadata": {
        "colab": {
          "base_uri": "https://localhost:8080/",
          "height": 204
        },
        "id": "Z4DvNWxLzx5U",
        "outputId": "03f60e10-9a11-4bca-fdfd-4012734b8e84"
      },
      "source": [
        "data['Target'] = list(target_y)\n",
        "data[:5]"
      ],
      "execution_count": null,
      "outputs": [
        {
          "output_type": "execute_result",
          "data": {
            "text/html": [
              "<div>\n",
              "<style scoped>\n",
              "    .dataframe tbody tr th:only-of-type {\n",
              "        vertical-align: middle;\n",
              "    }\n",
              "\n",
              "    .dataframe tbody tr th {\n",
              "        vertical-align: top;\n",
              "    }\n",
              "\n",
              "    .dataframe thead th {\n",
              "        text-align: right;\n",
              "    }\n",
              "</style>\n",
              "<table border=\"1\" class=\"dataframe\">\n",
              "  <thead>\n",
              "    <tr style=\"text-align: right;\">\n",
              "      <th></th>\n",
              "      <th>Score</th>\n",
              "      <th>Summary</th>\n",
              "      <th>Text</th>\n",
              "      <th>Target</th>\n",
              "    </tr>\n",
              "  </thead>\n",
              "  <tbody>\n",
              "    <tr>\n",
              "      <th>0</th>\n",
              "      <td>5</td>\n",
              "      <td>good quality dog food</td>\n",
              "      <td>bought several vitality canned dog food produc...</td>\n",
              "      <td>[0.0, 0.0, 1.0]</td>\n",
              "    </tr>\n",
              "    <tr>\n",
              "      <th>1</th>\n",
              "      <td>1</td>\n",
              "      <td>advertised</td>\n",
              "      <td>product arrived labeled jumbo salted peanuts p...</td>\n",
              "      <td>[1.0, 0.0, 0.0]</td>\n",
              "    </tr>\n",
              "    <tr>\n",
              "      <th>2</th>\n",
              "      <td>4</td>\n",
              "      <td>delight says</td>\n",
              "      <td>confection around centuries light pillowy citr...</td>\n",
              "      <td>[0.0, 0.0, 1.0]</td>\n",
              "    </tr>\n",
              "    <tr>\n",
              "      <th>3</th>\n",
              "      <td>2</td>\n",
              "      <td>cough medicine</td>\n",
              "      <td>looking secret ingredient robitussin believe f...</td>\n",
              "      <td>[1.0, 0.0, 0.0]</td>\n",
              "    </tr>\n",
              "    <tr>\n",
              "      <th>4</th>\n",
              "      <td>5</td>\n",
              "      <td>great taffy</td>\n",
              "      <td>great taffy great price wide assortment yummy ...</td>\n",
              "      <td>[0.0, 0.0, 1.0]</td>\n",
              "    </tr>\n",
              "  </tbody>\n",
              "</table>\n",
              "</div>"
            ],
            "text/plain": [
              "   Score  ...           Target\n",
              "0      5  ...  [0.0, 0.0, 1.0]\n",
              "1      1  ...  [1.0, 0.0, 0.0]\n",
              "2      4  ...  [0.0, 0.0, 1.0]\n",
              "3      2  ...  [1.0, 0.0, 0.0]\n",
              "4      5  ...  [0.0, 0.0, 1.0]\n",
              "\n",
              "[5 rows x 4 columns]"
            ]
          },
          "metadata": {
            "tags": []
          },
          "execution_count": 18
        }
      ]
    },
    {
      "cell_type": "markdown",
      "metadata": {
        "id": "SUd73EydwaJh"
      },
      "source": [
        "### Data visualization"
      ]
    },
    {
      "cell_type": "code",
      "metadata": {
        "id": "23Uw1kj8Y2fQ"
      },
      "source": [
        "from matplotlib import pyplot as plt\n",
        "\n",
        "def plot(x, y, x_label, y_label, title, type = 'bo'):\n",
        "  plt.plot(x, y, type)  \n",
        "  plt.xlabel(x_label)\n",
        "  plt.ylabel(y_label)\n",
        "  plt.title(title)\n",
        "  plt.show()   "
      ],
      "execution_count": null,
      "outputs": []
    },
    {
      "cell_type": "code",
      "metadata": {
        "colab": {
          "base_uri": "https://localhost:8080/",
          "height": 295
        },
        "id": "2w0hhwHJqiCg",
        "outputId": "9ce0dd32-919e-4905-cbb1-10de5a511482"
      },
      "source": [
        "plt.bar(['Negative', 'Neutral', 'Positive'], count, color ='maroon', width = 0.4) \n",
        "  \n",
        "plt.xlabel(\"Sentiment\")\n",
        "plt.ylabel(\"No. of reviews\")\n",
        "plt.title(\"Sentiment of reviews\")\n",
        "plt.show() "
      ],
      "execution_count": null,
      "outputs": [
        {
          "output_type": "display_data",
          "data": {
            "image/png": "[encoded data removed]",
            "text/plain": [
              "<Figure size 432x288 with 1 Axes>"
            ]
          },
          "metadata": {
            "tags": [],
            "needs_background": "light"
          }
        }
      ]
    },
    {
      "cell_type": "markdown",
      "metadata": {
        "id": "PaVckmZmw_Wy"
      },
      "source": [
        "As from the above graph we can see the data is highly imbalanced towards Positive reviews. To solve this problem I decided to add data for negative and neutral reviews from full dataset and reduce the positive sentiment data from present dataset"
      ]
    },
    {
      "cell_type": "code",
      "metadata": {
        "colab": {
          "base_uri": "https://localhost:8080/"
        },
        "id": "ssDsRUJ67WZU",
        "outputId": "25fa4212-98e7-42dd-d8b6-0a3e4d881f55"
      },
      "source": [
        "for i in range(data.shape[0]):\n",
        "  if count[2] > 25000:\n",
        "    if score[i] > 3:\n",
        "      data['Text'][i] = np.nan\n",
        "      count[2] -= 1\n",
        "  else:\n",
        "    break\n",
        "count"
      ],
      "execution_count": null,
      "outputs": [
        {
          "output_type": "stream",
          "text": [
            "/usr/local/lib/python3.6/dist-packages/ipykernel_launcher.py:4: SettingWithCopyWarning: \n",
            "A value is trying to be set on a copy of a slice from a DataFrame\n",
            "\n",
            "See the caveats in the documentation: https://pandas.pydata.org/pandas-docs/stable/user_guide/indexing.html#returning-a-view-versus-a-copy\n",
            "  after removing the cwd from sys.path.\n"
          ],
          "name": "stderr"
        },
        {
          "output_type": "execute_result",
          "data": {
            "text/plain": [
              "[6891, 3624, 25000]"
            ]
          },
          "metadata": {
            "tags": []
          },
          "execution_count": 21
        }
      ]
    },
    {
      "cell_type": "code",
      "metadata": {
        "colab": {
          "base_uri": "https://localhost:8080/"
        },
        "id": "Yhg-akSzCVur",
        "outputId": "e411984a-e5d1-4851-bed0-86c443aabc9f"
      },
      "source": [
        "data.dropna(axis=0,inplace=True)\n",
        "data.shape"
      ],
      "execution_count": null,
      "outputs": [
        {
          "output_type": "execute_result",
          "data": {
            "text/plain": [
              "(36036, 4)"
            ]
          },
          "metadata": {
            "tags": []
          },
          "execution_count": 22
        }
      ]
    },
    {
      "cell_type": "code",
      "metadata": {
        "id": "Ldc7f7UIvYtR"
      },
      "source": [
        "full_dataset = pd.read_csv(\"/content/amazon-fine-food-reviews/Reviews.csv\")"
      ],
      "execution_count": null,
      "outputs": []
    },
    {
      "cell_type": "code",
      "metadata": {
        "colab": {
          "base_uri": "https://localhost:8080/"
        },
        "id": "Np6phLwPwsRA",
        "outputId": "fad654b4-03ba-4696-a2bf-c4afc7ab6aec"
      },
      "source": [
        "add_reviews = []\n",
        "for i in range(51000, full_dataset.shape[0]):\n",
        "  if count[0] < 25000:\n",
        "    if full_dataset['Score'][i] < 3:\n",
        "      add_reviews.append([full_dataset['Score'][i], full_dataset['Summary'][i], full_dataset['Text'][i], generate_y(full_dataset['Score'][i])])\n",
        "      count[0] += 1\n",
        "  if count[1] < 25000:\n",
        "    if full_dataset['Score'][i] == 3:\n",
        "      add_reviews.append([full_dataset['Score'][i], full_dataset['Summary'][i], full_dataset['Text'][i], generate_y(full_dataset['Score'][i])])\n",
        "      count[1] += 1\n",
        "count"
      ],
      "execution_count": null,
      "outputs": [
        {
          "output_type": "execute_result",
          "data": {
            "text/plain": [
              "[25000, 25000, 25000]"
            ]
          },
          "metadata": {
            "tags": []
          },
          "execution_count": 24
        }
      ]
    },
    {
      "cell_type": "code",
      "metadata": {
        "colab": {
          "base_uri": "https://localhost:8080/",
          "height": 204
        },
        "id": "7vOxezTA6HeV",
        "outputId": "a3722634-aedc-4ae0-f11d-de1636e7de9a"
      },
      "source": [
        "add_data = pd.DataFrame(add_reviews, columns=['Score', 'Summary', 'Text', 'Target'])\n",
        "add_data[:5]"
      ],
      "execution_count": null,
      "outputs": [
        {
          "output_type": "execute_result",
          "data": {
            "text/html": [
              "<div>\n",
              "<style scoped>\n",
              "    .dataframe tbody tr th:only-of-type {\n",
              "        vertical-align: middle;\n",
              "    }\n",
              "\n",
              "    .dataframe tbody tr th {\n",
              "        vertical-align: top;\n",
              "    }\n",
              "\n",
              "    .dataframe thead th {\n",
              "        text-align: right;\n",
              "    }\n",
              "</style>\n",
              "<table border=\"1\" class=\"dataframe\">\n",
              "  <thead>\n",
              "    <tr style=\"text-align: right;\">\n",
              "      <th></th>\n",
              "      <th>Score</th>\n",
              "      <th>Summary</th>\n",
              "      <th>Text</th>\n",
              "      <th>Target</th>\n",
              "    </tr>\n",
              "  </thead>\n",
              "  <tbody>\n",
              "    <tr>\n",
              "      <th>0</th>\n",
              "      <td>2</td>\n",
              "      <td>Old Spice</td>\n",
              "      <td>I like Dynasty Chinese Five Spice as a product...</td>\n",
              "      <td>[1.0, 0.0, 0.0]</td>\n",
              "    </tr>\n",
              "    <tr>\n",
              "      <th>1</th>\n",
              "      <td>1</td>\n",
              "      <td>Makes my dogs sick</td>\n",
              "      <td>While the ingredients look good (though the wa...</td>\n",
              "      <td>[1.0, 0.0, 0.0]</td>\n",
              "    </tr>\n",
              "    <tr>\n",
              "      <th>2</th>\n",
              "      <td>3</td>\n",
              "      <td>decent dog food, but Fromm's is better</td>\n",
              "      <td>This brand is not bad, the ingredients are all...</td>\n",
              "      <td>[0.0, 1.0, 0.0]</td>\n",
              "    </tr>\n",
              "    <tr>\n",
              "      <th>3</th>\n",
              "      <td>1</td>\n",
              "      <td>Worst Shipping EVER</td>\n",
              "      <td>I love Weruva for my dogs, let me say that up ...</td>\n",
              "      <td>[1.0, 0.0, 0.0]</td>\n",
              "    </tr>\n",
              "    <tr>\n",
              "      <th>4</th>\n",
              "      <td>1</td>\n",
              "      <td>My dog ate it and got sick</td>\n",
              "      <td>My dog ate this product packaged in Thailand a...</td>\n",
              "      <td>[1.0, 0.0, 0.0]</td>\n",
              "    </tr>\n",
              "  </tbody>\n",
              "</table>\n",
              "</div>"
            ],
            "text/plain": [
              "   Score  ...           Target\n",
              "0      2  ...  [1.0, 0.0, 0.0]\n",
              "1      1  ...  [1.0, 0.0, 0.0]\n",
              "2      3  ...  [0.0, 1.0, 0.0]\n",
              "3      1  ...  [1.0, 0.0, 0.0]\n",
              "4      1  ...  [1.0, 0.0, 0.0]\n",
              "\n",
              "[5 rows x 4 columns]"
            ]
          },
          "metadata": {
            "tags": []
          },
          "execution_count": 25
        }
      ]
    },
    {
      "cell_type": "code",
      "metadata": {
        "colab": {
          "base_uri": "https://localhost:8080/"
        },
        "id": "ICo6fgRlHhfB",
        "outputId": "d4c64bcb-10e8-442a-92ba-a6b1af2365a4"
      },
      "source": [
        "cleaned_text_1 = []\n",
        "cleaned_summary_1 = []\n",
        "for text in add_data['Text']:\n",
        "  cleaned_text_1.append(text_cleaner(text))\n",
        "for summary in add_data['Summary']:\n",
        "  cleaned_summary_1.append(text_cleaner(str(summary)))"
      ],
      "execution_count": null,
      "outputs": [
        {
          "output_type": "stream",
          "text": [
            "/usr/local/lib/python3.6/dist-packages/bs4/__init__.py:336: UserWarning: \"http://www.amazon.com/gp/product/b000v9lq30/ref=cm_cr_rev_prod_title\" looks like a URL. Beautiful Soup is not an HTTP client. You should probably use an HTTP client like requests to get the document behind the URL, and feed that document to Beautiful Soup.\n",
            "  ' that document to Beautiful Soup.' % decoded_markup\n",
            "/usr/local/lib/python3.6/dist-packages/bs4/__init__.py:336: UserWarning: \"http://www.amazon.com/gp/product/b000eyobru/ref=cm_cr_rev_prod_title\" looks like a URL. Beautiful Soup is not an HTTP client. You should probably use an HTTP client like requests to get the document behind the URL, and feed that document to Beautiful Soup.\n",
            "  ' that document to Beautiful Soup.' % decoded_markup\n",
            "/usr/local/lib/python3.6/dist-packages/bs4/__init__.py:273: UserWarning: \"b'.'\" looks like a filename, not markup. You should probably open this file and pass the filehandle into Beautiful Soup.\n",
            "  ' Beautiful Soup.' % markup)\n"
          ],
          "name": "stderr"
        }
      ]
    },
    {
      "cell_type": "code",
      "metadata": {
        "id": "BkZk5PmvIVGj"
      },
      "source": [
        "add_data['Text']=cleaned_text_1\n",
        "add_data['Summary']=cleaned_summary_1\n",
        "add_data['Summary'].replace('', np.nan, inplace=True)\n",
        "add_data.dropna(axis=0,inplace=True)"
      ],
      "execution_count": null,
      "outputs": []
    },
    {
      "cell_type": "code",
      "metadata": {
        "colab": {
          "base_uri": "https://localhost:8080/"
        },
        "id": "KOAqI5YJJKos",
        "outputId": "02a36634-95df-44d9-aebc-e27adb61ecf6"
      },
      "source": [
        "add_data.shape"
      ],
      "execution_count": null,
      "outputs": [
        {
          "output_type": "execute_result",
          "data": {
            "text/plain": [
              "(38645, 4)"
            ]
          },
          "metadata": {
            "tags": []
          },
          "execution_count": 28
        }
      ]
    },
    {
      "cell_type": "code",
      "metadata": {
        "colab": {
          "base_uri": "https://localhost:8080/"
        },
        "id": "xq01QWMaJRIq",
        "outputId": "7babbc94-8510-40ba-fc81-6136a11f59f8"
      },
      "source": [
        "dataset = pd.concat([data, add_data], ignore_index=True)\n",
        "dataset.shape"
      ],
      "execution_count": null,
      "outputs": [
        {
          "output_type": "execute_result",
          "data": {
            "text/plain": [
              "(74681, 4)"
            ]
          },
          "metadata": {
            "tags": []
          },
          "execution_count": 29
        }
      ]
    },
    {
      "cell_type": "code",
      "metadata": {
        "colab": {
          "base_uri": "https://localhost:8080/"
        },
        "id": "YQ4TM4xsK120",
        "outputId": "382cde51-3ee1-435d-9093-c4ccfd06e0a1"
      },
      "source": [
        "score = list(dataset['Score'])\n",
        "counter = [0]*3\n",
        "\n",
        "for i in range(len(score)):\n",
        "  if score[i] == 3:\n",
        "      counter[1] += 1\n",
        "  elif score[i] > 3:  \n",
        "    counter[2] += 1\n",
        "  elif score[i] < 3: \n",
        "    counter[0] += 1\n",
        "counter"
      ],
      "execution_count": null,
      "outputs": [
        {
          "output_type": "execute_result",
          "data": {
            "text/plain": [
              "[23300, 23604, 27777]"
            ]
          },
          "metadata": {
            "tags": []
          },
          "execution_count": 30
        }
      ]
    },
    {
      "cell_type": "code",
      "metadata": {
        "id": "XfYxeu2SQmrO"
      },
      "source": [
        "sentiment = []\n",
        "score = list(dataset['Score'])\n",
        "for i in range(dataset.shape[0]):\n",
        "  if score[i] > 3:\n",
        "    sentiment.append('positive')\n",
        "  elif score[i] < 3:\n",
        "    sentiment.append('negative')\n",
        "  else:\n",
        "    sentiment.append('neutral')"
      ],
      "execution_count": null,
      "outputs": []
    },
    {
      "cell_type": "code",
      "metadata": {
        "colab": {
          "base_uri": "https://localhost:8080/",
          "height": 204
        },
        "id": "3_pth4iUSGbR",
        "outputId": "8025ac3d-3b53-42cb-856b-d78914f415ff"
      },
      "source": [
        "dataset['Sentiment'] = sentiment\n",
        "dataset[:5]"
      ],
      "execution_count": null,
      "outputs": [
        {
          "output_type": "execute_result",
          "data": {
            "text/html": [
              "<div>\n",
              "<style scoped>\n",
              "    .dataframe tbody tr th:only-of-type {\n",
              "        vertical-align: middle;\n",
              "    }\n",
              "\n",
              "    .dataframe tbody tr th {\n",
              "        vertical-align: top;\n",
              "    }\n",
              "\n",
              "    .dataframe thead th {\n",
              "        text-align: right;\n",
              "    }\n",
              "</style>\n",
              "<table border=\"1\" class=\"dataframe\">\n",
              "  <thead>\n",
              "    <tr style=\"text-align: right;\">\n",
              "      <th></th>\n",
              "      <th>Score</th>\n",
              "      <th>Summary</th>\n",
              "      <th>Text</th>\n",
              "      <th>Target</th>\n",
              "      <th>Sentiment</th>\n",
              "    </tr>\n",
              "  </thead>\n",
              "  <tbody>\n",
              "    <tr>\n",
              "      <th>0</th>\n",
              "      <td>1</td>\n",
              "      <td>advertised</td>\n",
              "      <td>product arrived labeled jumbo salted peanuts p...</td>\n",
              "      <td>[1.0, 0.0, 0.0]</td>\n",
              "      <td>negative</td>\n",
              "    </tr>\n",
              "    <tr>\n",
              "      <th>1</th>\n",
              "      <td>2</td>\n",
              "      <td>cough medicine</td>\n",
              "      <td>looking secret ingredient robitussin believe f...</td>\n",
              "      <td>[1.0, 0.0, 0.0]</td>\n",
              "      <td>negative</td>\n",
              "    </tr>\n",
              "    <tr>\n",
              "      <th>2</th>\n",
              "      <td>1</td>\n",
              "      <td>cats fans new food</td>\n",
              "      <td>cats happily eating felidae platinum two years...</td>\n",
              "      <td>[1.0, 0.0, 0.0]</td>\n",
              "      <td>negative</td>\n",
              "    </tr>\n",
              "    <tr>\n",
              "      <th>3</th>\n",
              "      <td>2</td>\n",
              "      <td>poor taste</td>\n",
              "      <td>love eating good watching looking movies sweet...</td>\n",
              "      <td>[1.0, 0.0, 0.0]</td>\n",
              "      <td>negative</td>\n",
              "    </tr>\n",
              "    <tr>\n",
              "      <th>4</th>\n",
              "      <td>1</td>\n",
              "      <td>nasty flavor</td>\n",
              "      <td>candy red flavor plan chewy would never buy</td>\n",
              "      <td>[1.0, 0.0, 0.0]</td>\n",
              "      <td>negative</td>\n",
              "    </tr>\n",
              "  </tbody>\n",
              "</table>\n",
              "</div>"
            ],
            "text/plain": [
              "   Score             Summary  ...           Target Sentiment\n",
              "0      1          advertised  ...  [1.0, 0.0, 0.0]  negative\n",
              "1      2      cough medicine  ...  [1.0, 0.0, 0.0]  negative\n",
              "2      1  cats fans new food  ...  [1.0, 0.0, 0.0]  negative\n",
              "3      2          poor taste  ...  [1.0, 0.0, 0.0]  negative\n",
              "4      1        nasty flavor  ...  [1.0, 0.0, 0.0]  negative\n",
              "\n",
              "[5 rows x 5 columns]"
            ]
          },
          "metadata": {
            "tags": []
          },
          "execution_count": 32
        }
      ]
    },
    {
      "cell_type": "code",
      "metadata": {
        "colab": {
          "base_uri": "https://localhost:8080/",
          "height": 295
        },
        "id": "m4Hwp6uZLl7_",
        "outputId": "6d3a4e65-6482-4bf4-87b5-0c07487ef3c1"
      },
      "source": [
        "plt.bar(['Negative', 'Neutral', 'Positive'], counter, color ='maroon', width = 0.4) \n",
        "  \n",
        "plt.xlabel(\"Sentiment\")\n",
        "plt.ylabel(\"No. of reviews\")\n",
        "plt.title(\"Sentiment of reviews\")\n",
        "plt.show() "
      ],
      "execution_count": null,
      "outputs": [
        {
          "output_type": "display_data",
          "data": {
            "image/png": "[encoded data removed]",
            "text/plain": [
              "<Figure size 432x288 with 1 Axes>"
            ]
          },
          "metadata": {
            "tags": [],
            "needs_background": "light"
          }
        }
      ]
    },
    {
      "cell_type": "markdown",
      "metadata": {
        "id": "aWDF7zSYLuZr"
      },
      "source": [
        "Now dataset is much more balanced"
      ]
    },
    {
      "cell_type": "markdown",
      "metadata": {
        "id": "R6By5q_gOHdH"
      },
      "source": [
        "## 1.3 Split Dataset"
      ]
    },
    {
      "cell_type": "code",
      "metadata": {
        "id": "hNCx1ncWOo7s"
      },
      "source": [
        "train_x, valid_x, train_y, valid_y = model_selection.train_test_split(dataset['Text'], dataset['Sentiment'], test_size = 0.2)"
      ],
      "execution_count": null,
      "outputs": []
    },
    {
      "cell_type": "code",
      "metadata": {
        "colab": {
          "base_uri": "https://localhost:8080/"
        },
        "id": "47UppLLdTW_n",
        "outputId": "92097870-b64f-4597-a039-5a33409f24b3"
      },
      "source": [
        "train_x[:5]"
      ],
      "execution_count": null,
      "outputs": [
        {
          "output_type": "execute_result",
          "data": {
            "text/plain": [
              "37889    use cheese sauce mixes mostly topping steamed ...\n",
              "5180     taco bell chipotle sauce much better ranchero ...\n",
              "31594    product information tell tea includes processe...\n",
              "18701    bought treats year olo husky beagle mix dog wi...\n",
              "34206    buy often always satisfied dog loves keep teet...\n",
              "Name: Text, dtype: object"
            ]
          },
          "metadata": {
            "tags": []
          },
          "execution_count": 38
        }
      ]
    },
    {
      "cell_type": "code",
      "metadata": {
        "id": "bb6RJ1VNTdAy"
      },
      "source": [
        "# label encode the target variable \n",
        "label_encoder = preprocessing.LabelEncoder()\n",
        "train_y = label_encoder.fit_transform(train_y)\n",
        "valid_y = label_encoder.fit_transform(valid_y)"
      ],
      "execution_count": null,
      "outputs": []
    },
    {
      "cell_type": "code",
      "metadata": {
        "colab": {
          "base_uri": "https://localhost:8080/"
        },
        "id": "q5SHeH19VzjS",
        "outputId": "1b02d86d-6558-4fdd-9774-7a21ec33b22d"
      },
      "source": [
        "train_y[:5]"
      ],
      "execution_count": null,
      "outputs": [
        {
          "output_type": "execute_result",
          "data": {
            "text/plain": [
              "array([1, 1, 0, 2, 2])"
            ]
          },
          "metadata": {
            "tags": []
          },
          "execution_count": 37
        }
      ]
    },
    {
      "cell_type": "markdown",
      "metadata": {
        "id": "tp3iz_oNT0xL"
      },
      "source": [
        "#2. **Feature Extraction**\n",
        ">The next step is the feature extraction step. In this step, raw text data will be transformed into feature vectors and new features will be created using the existing dataset. \n",
        "\n",
        ">* Count Vectors as features\n",
        "* TF-IDF Vectors as features\n",
        "  1. Word level\n",
        "  2. N-Gram level\n",
        "  3. Character level\n",
        "* Word Embeddings as features\n",
        "*  Text / NLP based features\n",
        "*  Topic Models as features\n"
      ]
    },
    {
      "cell_type": "markdown",
      "metadata": {
        "id": "4MF6Q-34VSoa"
      },
      "source": [
        "## 2.1 Count Vectors as features"
      ]
    },
    {
      "cell_type": "code",
      "metadata": {
        "id": "6LZz-PFxVSAE"
      },
      "source": [
        "count_vect = CountVectorizer(analyzer='word', token_pattern=r'\\w{1,}')\n",
        "count_vect.fit(dataset['Text'])\n",
        "\n",
        "xtrain_count =  count_vect.transform(train_x)\n",
        "xvalid_count =  count_vect.transform(valid_x)"
      ],
      "execution_count": null,
      "outputs": []
    },
    {
      "cell_type": "markdown",
      "metadata": {
        "id": "ri7OarlDdA5a"
      },
      "source": [
        "## 2.2 TF-IDF Vectors as features"
      ]
    },
    {
      "cell_type": "code",
      "metadata": {
        "colab": {
          "base_uri": "https://localhost:8080/"
        },
        "id": "nQVimrNZTsao",
        "outputId": "081219df-acfe-4c6c-976b-7b038f7852f1"
      },
      "source": [
        "# word level tf-idf\n",
        "tfidf_vect = TfidfVectorizer(analyzer='word', token_pattern=r'\\w{1,}', max_features=5000)\n",
        "tfidf_vect.fit(dataset['Text'])\n",
        "xtrain_tfidf =  tfidf_vect.transform(train_x)\n",
        "xvalid_tfidf =  tfidf_vect.transform(valid_x)\n",
        "\n",
        "# ngram level tf-idf \n",
        "tfidf_vect_ngram = TfidfVectorizer(analyzer='word', token_pattern=r'\\w{1,}', ngram_range=(2,3), max_features=5000)\n",
        "tfidf_vect_ngram.fit(dataset['Text'])\n",
        "xtrain_tfidf_ngram =  tfidf_vect_ngram.transform(train_x)\n",
        "xvalid_tfidf_ngram =  tfidf_vect_ngram.transform(valid_x)\n",
        "\n",
        "# characters level tf-idf\n",
        "tfidf_vect_ngram_chars = TfidfVectorizer(analyzer='char', token_pattern=r'\\w{1,}', ngram_range=(2,3), max_features=5000)\n",
        "tfidf_vect_ngram_chars.fit(dataset['Text'])\n",
        "xtrain_tfidf_ngram_chars =  tfidf_vect_ngram_chars.transform(train_x) \n",
        "xvalid_tfidf_ngram_chars =  tfidf_vect_ngram_chars.transform(valid_x)"
      ],
      "execution_count": null,
      "outputs": [
        {
          "output_type": "stream",
          "text": [
            "/usr/local/lib/python3.6/dist-packages/sklearn/feature_extraction/text.py:524: UserWarning: The parameter 'token_pattern' will not be used since 'analyzer' != 'word'\n",
            "  warnings.warn(\"The parameter 'token_pattern' will not be used\"\n"
          ],
          "name": "stderr"
        }
      ]
    },
    {
      "cell_type": "markdown",
      "metadata": {
        "id": "rgDEKEqVi3Z9"
      },
      "source": [
        "## 2.3 Word Embeddings"
      ]
    },
    {
      "cell_type": "markdown",
      "metadata": {
        "id": "YS7bt9ZbopL4"
      },
      "source": [
        "I have used GloVe embeddings as pretrained embeddings"
      ]
    },
    {
      "cell_type": "code",
      "metadata": {
        "colab": {
          "base_uri": "https://localhost:8080/"
        },
        "id": "oaPeVdlSd6YP",
        "outputId": "535a95d4-c50a-41d4-e558-34b83c011c2b"
      },
      "source": [
        "from google.colab import drive\n",
        "drive.mount('/content/drive')"
      ],
      "execution_count": null,
      "outputs": [
        {
          "output_type": "stream",
          "text": [
            "Mounted at /content/drive\n"
          ],
          "name": "stdout"
        }
      ]
    },
    {
      "cell_type": "code",
      "metadata": {
        "colab": {
          "base_uri": "https://localhost:8080/"
        },
        "id": "6zCxaMP3rabn",
        "outputId": "5d6daef3-7918-468b-cd8f-f1bc03017436"
      },
      "source": [
        "!mkdir wiki-news-300d-1M\n",
        "!unzip /content/drive/MyDrive/ML_resources/wiki-news-300d-1M.vec.zip -d wiki-news-300d-1M"
      ],
      "execution_count": null,
      "outputs": [
        {
          "output_type": "stream",
          "text": [
            "Archive:  /content/drive/MyDrive/ML_resources/wiki-news-300d-1M.vec.zip\n",
            "  inflating: wiki-news-300d-1M/wiki-news-300d-1M.vec  \n"
          ],
          "name": "stdout"
        }
      ]
    },
    {
      "cell_type": "code",
      "metadata": {
        "id": "yMmlVixyuU7A"
      },
      "source": [
        "embeddings_index = {}\n",
        "for i, line in enumerate(open('wiki-news-300d-1M/wiki-news-300d-1M.vec')):\n",
        "    values = line.split()\n",
        "    embeddings_index[values[0]] = np.asarray(values[1:], dtype='float32')"
      ],
      "execution_count": null,
      "outputs": []
    },
    {
      "cell_type": "code",
      "metadata": {
        "colab": {
          "base_uri": "https://localhost:8080/"
        },
        "id": "kQf7isl7vHYQ",
        "outputId": "302289fc-5f47-47cc-d8fb-53b88855ce38"
      },
      "source": [
        "# create a tokenizer \n",
        "token = text.Tokenizer()\n",
        "token.fit_on_texts(dataset['Text'])\n",
        "word_index = token.word_index\n",
        "word_index"
      ],
      "execution_count": null,
      "outputs": [
        {
          "output_type": "execute_result",
          "data": {
            "text/plain": [
              "{'like': 1,\n",
              " 'would': 2,\n",
              " 'taste': 3,\n",
              " 'good': 4,\n",
              " 'one': 5,\n",
              " 'product': 6,\n",
              " 'coffee': 7,\n",
              " 'flavor': 8,\n",
              " 'tea': 9,\n",
              " 'food': 10,\n",
              " 'great': 11,\n",
              " 'get': 12,\n",
              " 'really': 13,\n",
              " 'much': 14,\n",
              " 'love': 15,\n",
              " 'buy': 16,\n",
              " 'time': 17,\n",
              " 'little': 18,\n",
              " 'dog': 19,\n",
              " 'amazon': 20,\n",
              " 'also': 21,\n",
              " 'even': 22,\n",
              " 'better': 23,\n",
              " 'use': 24,\n",
              " 'tried': 25,\n",
              " 'try': 26,\n",
              " 'first': 27,\n",
              " 'chocolate': 28,\n",
              " 'eat': 29,\n",
              " 'price': 30,\n",
              " 'make': 31,\n",
              " 'could': 32,\n",
              " 'well': 33,\n",
              " 'find': 34,\n",
              " 'water': 35,\n",
              " 'cup': 36,\n",
              " 'box': 37,\n",
              " 'bag': 38,\n",
              " 'think': 39,\n",
              " 'sugar': 40,\n",
              " 'bought': 41,\n",
              " 'made': 42,\n",
              " 'drink': 43,\n",
              " 'two': 44,\n",
              " 'used': 45,\n",
              " 'best': 46,\n",
              " 'still': 47,\n",
              " 'way': 48,\n",
              " 'sweet': 49,\n",
              " 'bad': 50,\n",
              " 'found': 51,\n",
              " 'tastes': 52,\n",
              " 'know': 53,\n",
              " 'got': 54,\n",
              " 'something': 55,\n",
              " 'however': 56,\n",
              " 'bit': 57,\n",
              " 'give': 58,\n",
              " 'since': 59,\n",
              " 'cannot': 60,\n",
              " 'order': 61,\n",
              " 'dogs': 62,\n",
              " 'thought': 63,\n",
              " 'want': 64,\n",
              " 'free': 65,\n",
              " 'ingredients': 66,\n",
              " 'day': 67,\n",
              " 'store': 68,\n",
              " 'never': 69,\n",
              " 'treats': 70,\n",
              " 'back': 71,\n",
              " 'say': 72,\n",
              " 'brand': 73,\n",
              " 'many': 74,\n",
              " 'less': 75,\n",
              " 'mix': 76,\n",
              " 'sure': 77,\n",
              " 'ordered': 78,\n",
              " 'lot': 79,\n",
              " 'flavors': 80,\n",
              " 'nice': 81,\n",
              " 'different': 82,\n",
              " 'cat': 83,\n",
              " 'old': 84,\n",
              " 'though': 85,\n",
              " 'stuff': 86,\n",
              " 'quality': 87,\n",
              " 'small': 88,\n",
              " 'strong': 89,\n",
              " 'enough': 90,\n",
              " 'products': 91,\n",
              " 'organic': 92,\n",
              " 'recommend': 93,\n",
              " 'hot': 94,\n",
              " 'package': 95,\n",
              " 'see': 96,\n",
              " 'eating': 97,\n",
              " 'hard': 98,\n",
              " 'right': 99,\n",
              " 'pretty': 100,\n",
              " 'treat': 101,\n",
              " 'may': 102,\n",
              " 'put': 103,\n",
              " 'tasted': 104,\n",
              " 'thing': 105,\n",
              " 'every': 106,\n",
              " 'looking': 107,\n",
              " 'buying': 108,\n",
              " 'without': 109,\n",
              " 'milk': 110,\n",
              " 'going': 111,\n",
              " 'chicken': 112,\n",
              " 'using': 113,\n",
              " 'makes': 114,\n",
              " 'add': 115,\n",
              " 'high': 116,\n",
              " 'years': 117,\n",
              " 'another': 118,\n",
              " 'people': 119,\n",
              " 'green': 120,\n",
              " 'actually': 121,\n",
              " 'regular': 122,\n",
              " 'salt': 123,\n",
              " 'bags': 124,\n",
              " 'healthy': 125,\n",
              " 'whole': 126,\n",
              " 'smell': 127,\n",
              " 'texture': 128,\n",
              " 'favorite': 129,\n",
              " 'cookies': 130,\n",
              " 'always': 131,\n",
              " 'size': 132,\n",
              " 'quite': 133,\n",
              " 'work': 134,\n",
              " 'ever': 135,\n",
              " 'need': 136,\n",
              " 'cats': 137,\n",
              " 'big': 138,\n",
              " 'almost': 139,\n",
              " 'new': 140,\n",
              " 'natural': 141,\n",
              " 'probably': 142,\n",
              " 'keep': 143,\n",
              " 'real': 144,\n",
              " 'away': 145,\n",
              " 'disappointed': 146,\n",
              " 'enjoy': 147,\n",
              " 'chips': 148,\n",
              " 'purchased': 149,\n",
              " 'definitely': 150,\n",
              " 'received': 151,\n",
              " 'said': 152,\n",
              " 'anything': 153,\n",
              " 'long': 154,\n",
              " 'might': 155,\n",
              " 'oil': 156,\n",
              " 'delicious': 157,\n",
              " 'maybe': 158,\n",
              " 'pack': 159,\n",
              " 'far': 160,\n",
              " 'loves': 161,\n",
              " 'trying': 162,\n",
              " 'money': 163,\n",
              " 'half': 164,\n",
              " 'last': 165,\n",
              " 'reviews': 166,\n",
              " 'cups': 167,\n",
              " 'purchase': 168,\n",
              " 'fresh': 169,\n",
              " 'take': 170,\n",
              " 'calories': 171,\n",
              " 'around': 172,\n",
              " 'dry': 173,\n",
              " 'easy': 174,\n",
              " 'stars': 175,\n",
              " 'nothing': 176,\n",
              " 'low': 177,\n",
              " 'snack': 178,\n",
              " 'three': 179,\n",
              " 'problem': 180,\n",
              " 'shipping': 181,\n",
              " 'diet': 182,\n",
              " 'dark': 183,\n",
              " 'per': 184,\n",
              " 'local': 185,\n",
              " 'bars': 186,\n",
              " 'feel': 187,\n",
              " 'sauce': 188,\n",
              " 'kind': 189,\n",
              " 'tasty': 190,\n",
              " 'company': 191,\n",
              " 'fat': 192,\n",
              " 'tasting': 193,\n",
              " 'getting': 194,\n",
              " 'fine': 195,\n",
              " 'worth': 196,\n",
              " 'amount': 197,\n",
              " 'vanilla': 198,\n",
              " 'bar': 199,\n",
              " 'butter': 200,\n",
              " 'foods': 201,\n",
              " 'bottle': 202,\n",
              " 'added': 203,\n",
              " 'seems': 204,\n",
              " 'packaging': 205,\n",
              " 'things': 206,\n",
              " 'came': 207,\n",
              " 'expensive': 208,\n",
              " 'review': 209,\n",
              " 'coconut': 210,\n",
              " 'popcorn': 211,\n",
              " 'rice': 212,\n",
              " 'item': 213,\n",
              " 'flavored': 214,\n",
              " 'either': 215,\n",
              " 'fruit': 216,\n",
              " 'year': 217,\n",
              " 'full': 218,\n",
              " 'instead': 219,\n",
              " 'bitter': 220,\n",
              " 'case': 221,\n",
              " 'look': 222,\n",
              " 'come': 223,\n",
              " 'cans': 224,\n",
              " 'cereal': 225,\n",
              " 'perfect': 226,\n",
              " 'several': 227,\n",
              " 'happy': 228,\n",
              " 'ginger': 229,\n",
              " 'gave': 230,\n",
              " 'blend': 231,\n",
              " 'large': 232,\n",
              " 'least': 233,\n",
              " 'gluten': 234,\n",
              " 'juice': 235,\n",
              " 'days': 236,\n",
              " 'protein': 237,\n",
              " 'usually': 238,\n",
              " 'wanted': 239,\n",
              " 'arrived': 240,\n",
              " 'black': 241,\n",
              " 'loved': 242,\n",
              " 'fact': 243,\n",
              " 'took': 244,\n",
              " 'rather': 245,\n",
              " 'comes': 246,\n",
              " 'peanut': 247,\n",
              " 'boxes': 248,\n",
              " 'brands': 249,\n",
              " 'pieces': 250,\n",
              " 'top': 251,\n",
              " 'liked': 252,\n",
              " 'prefer': 253,\n",
              " 'candy': 254,\n",
              " 'read': 255,\n",
              " 'opened': 256,\n",
              " 'seem': 257,\n",
              " 'drinking': 258,\n",
              " 'next': 259,\n",
              " 'corn': 260,\n",
              " 'months': 261,\n",
              " 'grocery': 262,\n",
              " 'times': 263,\n",
              " 'cheese': 264,\n",
              " 'syrup': 265,\n",
              " 'others': 266,\n",
              " 'light': 267,\n",
              " 'roast': 268,\n",
              " 'making': 269,\n",
              " 'morning': 270,\n",
              " 'let': 271,\n",
              " 'went': 272,\n",
              " 'minutes': 273,\n",
              " 'home': 274,\n",
              " 'health': 275,\n",
              " 'wonderful': 276,\n",
              " 'open': 277,\n",
              " 'decided': 278,\n",
              " 'ones': 279,\n",
              " 'variety': 280,\n",
              " 'plastic': 281,\n",
              " 'able': 282,\n",
              " 'second': 283,\n",
              " 'cookie': 284,\n",
              " 'couple': 285,\n",
              " 'else': 286,\n",
              " 'although': 287,\n",
              " 'mouth': 288,\n",
              " 'guess': 289,\n",
              " 'beans': 290,\n",
              " 'unfortunately': 291,\n",
              " 'powder': 292,\n",
              " 'jerky': 293,\n",
              " 'cost': 294,\n",
              " 'excellent': 295,\n",
              " 'family': 296,\n",
              " 'white': 297,\n",
              " 'started': 298,\n",
              " 'extra': 299,\n",
              " 'baby': 300,\n",
              " 'bread': 301,\n",
              " 'honey': 302,\n",
              " 'save': 303,\n",
              " 'wish': 304,\n",
              " 'highly': 305,\n",
              " 'meat': 306,\n",
              " 'side': 307,\n",
              " 'house': 308,\n",
              " 'especially': 309,\n",
              " 'stores': 310,\n",
              " 'says': 311,\n",
              " 'serving': 312,\n",
              " 'must': 313,\n",
              " 'ago': 314,\n",
              " 'ounce': 315,\n",
              " 'fan': 316,\n",
              " 'deal': 317,\n",
              " 'available': 318,\n",
              " 'meal': 319,\n",
              " 'cheaper': 320,\n",
              " 'end': 321,\n",
              " 'energy': 322,\n",
              " 'left': 323,\n",
              " 'beef': 324,\n",
              " 'anyone': 325,\n",
              " 'overall': 326,\n",
              " 'cream': 327,\n",
              " 'kids': 328,\n",
              " 'aftertaste': 329,\n",
              " 'teeth': 330,\n",
              " 'part': 331,\n",
              " 'starbucks': 332,\n",
              " 'help': 333,\n",
              " 'yet': 334,\n",
              " 'soft': 335,\n",
              " 'absolutely': 336,\n",
              " 'quickly': 337,\n",
              " 'care': 338,\n",
              " 'noodles': 339,\n",
              " 'stick': 340,\n",
              " 'husband': 341,\n",
              " 'ingredient': 342,\n",
              " 'machine': 343,\n",
              " 'expected': 344,\n",
              " 'salty': 345,\n",
              " 'reason': 346,\n",
              " 'star': 347,\n",
              " 'ordering': 348,\n",
              " 'teas': 349,\n",
              " 'spicy': 350,\n",
              " 'breakfast': 351,\n",
              " 'longer': 352,\n",
              " 'dried': 353,\n",
              " 'bold': 354,\n",
              " 'type': 355,\n",
              " 'mixed': 356,\n",
              " 'plus': 357,\n",
              " 'weak': 358,\n",
              " 'ate': 359,\n",
              " 'artificial': 360,\n",
              " 'chew': 361,\n",
              " 'lemon': 362,\n",
              " 'wrong': 363,\n",
              " 'version': 364,\n",
              " 'week': 365,\n",
              " 'idea': 366,\n",
              " 'toy': 367,\n",
              " 'month': 368,\n",
              " 'giving': 369,\n",
              " 'brown': 370,\n",
              " 'slightly': 371,\n",
              " 'list': 372,\n",
              " 'soup': 373,\n",
              " 'color': 374,\n",
              " 'smaller': 375,\n",
              " 'works': 376,\n",
              " 'believe': 377,\n",
              " 'okay': 378,\n",
              " 'seemed': 379,\n",
              " 'date': 380,\n",
              " 'looked': 381,\n",
              " 'recommended': 382,\n",
              " 'nuts': 383,\n",
              " 'similar': 384,\n",
              " 'smooth': 385,\n",
              " 'wheat': 386,\n",
              " 'inside': 387,\n",
              " 'pasta': 388,\n",
              " 'weeks': 389,\n",
              " 'brew': 390,\n",
              " 'contains': 391,\n",
              " 'four': 392,\n",
              " 'pet': 393,\n",
              " 'experience': 394,\n",
              " 'formula': 395,\n",
              " 'waste': 396,\n",
              " 'label': 397,\n",
              " 'likes': 398,\n",
              " 'cocoa': 399,\n",
              " 'someone': 400,\n",
              " 'original': 401,\n",
              " 'ground': 402,\n",
              " 'container': 403,\n",
              " 'feed': 404,\n",
              " 'value': 405,\n",
              " 'red': 406,\n",
              " 'drinks': 407,\n",
              " 'tell': 408,\n",
              " 'looks': 409,\n",
              " 'everything': 410,\n",
              " 'difference': 411,\n",
              " 'cinnamon': 412,\n",
              " 'excited': 413,\n",
              " 'single': 414,\n",
              " 'based': 415,\n",
              " 'keurig': 416,\n",
              " 'quick': 417,\n",
              " 'soda': 418,\n",
              " 'expect': 419,\n",
              " 'rich': 420,\n",
              " 'canned': 421,\n",
              " 'gets': 422,\n",
              " 'easily': 423,\n",
              " 'weight': 424,\n",
              " 'saw': 425,\n",
              " 'line': 426,\n",
              " 'sodium': 427,\n",
              " 'noticed': 428,\n",
              " 'bite': 429,\n",
              " 'past': 430,\n",
              " 'bottom': 431,\n",
              " 'oatmeal': 432,\n",
              " 'compared': 433,\n",
              " 'cut': 434,\n",
              " 'pay': 435,\n",
              " 'market': 436,\n",
              " 'choice': 437,\n",
              " 'smells': 438,\n",
              " 'orange': 439,\n",
              " 'decent': 440,\n",
              " 'due': 441,\n",
              " 'bowl': 442,\n",
              " 'fast': 443,\n",
              " 'recipe': 444,\n",
              " 'problems': 445,\n",
              " 'description': 446,\n",
              " 'crackers': 447,\n",
              " 'change': 448,\n",
              " 'french': 449,\n",
              " 'aroma': 450,\n",
              " 'etc': 451,\n",
              " 'pods': 452,\n",
              " 'cold': 453,\n",
              " 'super': 454,\n",
              " 'special': 455,\n",
              " 'enjoyed': 456,\n",
              " 'given': 457,\n",
              " 'please': 458,\n",
              " 'hoping': 459,\n",
              " 'gift': 460,\n",
              " 'soy': 461,\n",
              " 'stale': 462,\n",
              " 'rest': 463,\n",
              " 'completely': 464,\n",
              " 'horrible': 465,\n",
              " 'cheap': 466,\n",
              " 'crunchy': 467,\n",
              " 'leaves': 468,\n",
              " 'instant': 469,\n",
              " 'online': 470,\n",
              " 'bland': 471,\n",
              " 'son': 472,\n",
              " 'exactly': 473,\n",
              " 'point': 474,\n",
              " 'plain': 475,\n",
              " 'mild': 476,\n",
              " 'certainly': 477,\n",
              " 'coffees': 478,\n",
              " 'broken': 479,\n",
              " 'hours': 480,\n",
              " 'almonds': 481,\n",
              " 'unless': 482,\n",
              " 'hand': 483,\n",
              " 'fiber': 484,\n",
              " 'simply': 485,\n",
              " 'sometimes': 486,\n",
              " 'stomach': 487,\n",
              " 'acid': 488,\n",
              " 'everyone': 489,\n",
              " 'pepper': 490,\n",
              " 'hair': 491,\n",
              " 'alternative': 492,\n",
              " 'return': 493,\n",
              " 'batch': 494,\n",
              " 'huge': 495,\n",
              " 'often': 496,\n",
              " 'surprised': 497,\n",
              " 'life': 498,\n",
              " 'packet': 499,\n",
              " 'packages': 500,\n",
              " 'hope': 501,\n",
              " 'clean': 502,\n",
              " 'awful': 503,\n",
              " 'apple': 504,\n",
              " 'called': 505,\n",
              " 'later': 506,\n",
              " 'ice': 507,\n",
              " 'fish': 508,\n",
              " 'feeding': 509,\n",
              " 'start': 510,\n",
              " 'amazing': 511,\n",
              " 'terrible': 512,\n",
              " 'goes': 513,\n",
              " 'place': 514,\n",
              " 'perhaps': 515,\n",
              " 'close': 516,\n",
              " 'mind': 517,\n",
              " 'spice': 518,\n",
              " 'medium': 519,\n",
              " 'packs': 520,\n",
              " 'vet': 521,\n",
              " 'liquid': 522,\n",
              " 'recently': 523,\n",
              " 'sent': 524,\n",
              " 'non': 525,\n",
              " 'needs': 526,\n",
              " 'thinking': 527,\n",
              " 'service': 528,\n",
              " 'daughter': 529,\n",
              " 'opinion': 530,\n",
              " 'pot': 531,\n",
              " 'already': 532,\n",
              " 'cooking': 533,\n",
              " 'course': 534,\n",
              " 'chai': 535,\n",
              " 'expecting': 536,\n",
              " 'chewy': 537,\n",
              " 'yes': 538,\n",
              " 'adding': 539,\n",
              " 'name': 540,\n",
              " 'extremely': 541,\n",
              " 'gone': 542,\n",
              " 'bottles': 543,\n",
              " 'packaged': 544,\n",
              " 'seeds': 545,\n",
              " 'grain': 546,\n",
              " 'done': 547,\n",
              " 'packets': 548,\n",
              " 'finally': 549,\n",
              " 'leave': 550,\n",
              " 'daily': 551,\n",
              " 'content': 552,\n",
              " 'snacks': 553,\n",
              " 'consistency': 554,\n",
              " 'pound': 555,\n",
              " 'caffeine': 556,\n",
              " 'customer': 557,\n",
              " 'issue': 558,\n",
              " 'potato': 559,\n",
              " 'jar': 560,\n",
              " 'glad': 561,\n",
              " 'flour': 562,\n",
              " 'items': 563,\n",
              " 'changed': 564,\n",
              " 'larger': 565,\n",
              " 'normal': 566,\n",
              " 'grams': 567,\n",
              " 'entire': 568,\n",
              " 'wife': 569,\n",
              " 'true': 570,\n",
              " 'thick': 571,\n",
              " 'lots': 572,\n",
              " 'calorie': 573,\n",
              " 'along': 574,\n",
              " 'five': 575,\n",
              " 'particular': 576,\n",
              " 'twice': 577,\n",
              " 'pop': 578,\n",
              " 'china': 579,\n",
              " 'reading': 580,\n",
              " 'told': 581,\n",
              " 'contain': 582,\n",
              " 'heat': 583,\n",
              " 'friends': 584,\n",
              " 'supposed': 585,\n",
              " 'eaten': 586,\n",
              " 'sour': 587,\n",
              " 'felt': 588,\n",
              " 'tiny': 589,\n",
              " 'filling': 590,\n",
              " 'anyway': 591,\n",
              " 'worst': 592,\n",
              " 'decaf': 593,\n",
              " 'pumpkin': 594,\n",
              " 'finish': 595,\n",
              " 'soon': 596,\n",
              " 'ball': 597,\n",
              " 'normally': 598,\n",
              " 'throw': 599,\n",
              " 'note': 600,\n",
              " 'raw': 601,\n",
              " 'newman': 602,\n",
              " 'friend': 603,\n",
              " 'hint': 604,\n",
              " 'piece': 605,\n",
              " 'flavorful': 606,\n",
              " 'switch': 607,\n",
              " 'purchasing': 608,\n",
              " 'whatever': 609,\n",
              " 'picture': 610,\n",
              " 'shipped': 611,\n",
              " 'needed': 612,\n",
              " 'means': 613,\n",
              " 'chip': 614,\n",
              " 'difficult': 615,\n",
              " 'within': 616,\n",
              " 'together': 617,\n",
              " 'body': 618,\n",
              " 'somewhat': 619,\n",
              " 'cook': 620,\n",
              " 'thin': 621,\n",
              " 'sort': 622,\n",
              " 'espresso': 623,\n",
              " 'run': 624,\n",
              " 'listed': 625,\n",
              " 'night': 626,\n",
              " 'sold': 627,\n",
              " 'bean': 628,\n",
              " 'picky': 629,\n",
              " 'granola': 630,\n",
              " 'sweetness': 631,\n",
              " 'ended': 632,\n",
              " 'maker': 633,\n",
              " 'blue': 634,\n",
              " 'thanks': 635,\n",
              " 'gum': 636,\n",
              " 'cake': 637,\n",
              " 'takes': 638,\n",
              " 'cherry': 639,\n",
              " 'break': 640,\n",
              " 'shipment': 641,\n",
              " 'total': 642,\n",
              " 'mine': 643,\n",
              " 'seller': 644,\n",
              " 'live': 645,\n",
              " 'convenient': 646,\n",
              " 'bulk': 647,\n",
              " 'today': 648,\n",
              " 'mess': 649,\n",
              " 'issues': 650,\n",
              " 'nut': 651,\n",
              " 'loose': 652,\n",
              " 'pure': 653,\n",
              " 'healthier': 654,\n",
              " 'immediately': 655,\n",
              " 'thank': 656,\n",
              " 'chews': 657,\n",
              " 'higher': 658,\n",
              " 'figured': 659,\n",
              " 'glass': 660,\n",
              " 'count': 661,\n",
              " 'eats': 662,\n",
              " 'otherwise': 663,\n",
              " 'lower': 664,\n",
              " 'short': 665,\n",
              " 'reviewers': 666,\n",
              " 'brewing': 667,\n",
              " 'stuck': 668,\n",
              " 'delivery': 669,\n",
              " 'none': 670,\n",
              " 'sale': 671,\n",
              " 'com': 672,\n",
              " 'brewed': 673,\n",
              " 'roasted': 674,\n",
              " 'call': 675,\n",
              " 'gives': 676,\n",
              " 'puppy': 677,\n",
              " 'nearly': 678,\n",
              " 'matter': 679,\n",
              " 'packed': 680,\n",
              " 'actual': 681,\n",
              " 'avoid': 682,\n",
              " 'sweetener': 683,\n",
              " 'clear': 684,\n",
              " 'yummy': 685,\n",
              " 'fairly': 686,\n",
              " 'beverage': 687,\n",
              " 'nutrition': 688,\n",
              " 'olive': 689,\n",
              " 'awesome': 690,\n",
              " 'sorry': 691,\n",
              " 'dinner': 692,\n",
              " 'worse': 693,\n",
              " 'website': 694,\n",
              " 'rating': 695,\n",
              " 'pleasant': 696,\n",
              " 'subscribe': 697,\n",
              " 'touch': 698,\n",
              " 'iced': 699,\n",
              " 'stop': 700,\n",
              " 'paid': 701,\n",
              " 'continue': 702,\n",
              " 'mostly': 703,\n",
              " 'notice': 704,\n",
              " 'results': 705,\n",
              " 'mountain': 706,\n",
              " 'seen': 707,\n",
              " 'strawberry': 708,\n",
              " 'person': 709,\n",
              " 'microwave': 710,\n",
              " 'sell': 711,\n",
              " 'flavoring': 712,\n",
              " 'crunch': 713,\n",
              " 'stronger': 714,\n",
              " 'six': 715,\n",
              " 'fair': 716,\n",
              " 'check': 717,\n",
              " 'tuna': 718,\n",
              " 'anymore': 719,\n",
              " 'smelled': 720,\n",
              " 'expiration': 721,\n",
              " 'taking': 722,\n",
              " 'seasoning': 723,\n",
              " 'except': 724,\n",
              " 'disappointing': 725,\n",
              " 'weird': 726,\n",
              " 'stay': 727,\n",
              " 'creamy': 728,\n",
              " 'threw': 729,\n",
              " 'spices': 730,\n",
              " 'bits': 731,\n",
              " 'nutritional': 732,\n",
              " 'cooked': 733,\n",
              " 'cause': 734,\n",
              " 'pod': 735,\n",
              " 'pleased': 736,\n",
              " 'vitamin': 737,\n",
              " 'stopped': 738,\n",
              " 'baking': 739,\n",
              " 'chili': 740,\n",
              " 'sick': 741,\n",
              " 'set': 742,\n",
              " 'pick': 743,\n",
              " 'average': 744,\n",
              " 'licorice': 745,\n",
              " 'worked': 746,\n",
              " 'turned': 747,\n",
              " 'shake': 748,\n",
              " 'future': 749,\n",
              " 'totally': 750,\n",
              " 'maple': 751,\n",
              " 'stock': 752,\n",
              " 'stevia': 753,\n",
              " 'opening': 754,\n",
              " 'chewing': 755,\n",
              " 'number': 756,\n",
              " 'baked': 757,\n",
              " 'personally': 758,\n",
              " 'pork': 759,\n",
              " 'consider': 760,\n",
              " 'sticks': 761,\n",
              " 'mint': 762,\n",
              " 'instructions': 763,\n",
              " 'carb': 764,\n",
              " 'poor': 765,\n",
              " 'dented': 766,\n",
              " 'mean': 767,\n",
              " 'fun': 768,\n",
              " 'dish': 769,\n",
              " 'become': 770,\n",
              " 'carbs': 771,\n",
              " 'update': 772,\n",
              " 'addition': 773,\n",
              " 'ounces': 774,\n",
              " 'wait': 775,\n",
              " 'varieties': 776,\n",
              " 'result': 777,\n",
              " 'option': 778,\n",
              " 'helps': 779,\n",
              " 'hour': 780,\n",
              " 'remember': 781,\n",
              " 'benefits': 782,\n",
              " 'basically': 783,\n",
              " 'world': 784,\n",
              " 'chemical': 785,\n",
              " 'crazy': 786,\n",
              " 'vinegar': 787,\n",
              " 'greenies': 788,\n",
              " 'kibble': 789,\n",
              " 'shop': 790,\n",
              " 'substitute': 791,\n",
              " 'truly': 792,\n",
              " 'upon': 793,\n",
              " 'delivered': 794,\n",
              " 'impressed': 795,\n",
              " 'style': 796,\n",
              " 'outside': 797,\n",
              " 'hate': 798,\n",
              " 'agree': 799,\n",
              " 'easier': 800,\n",
              " 'feeling': 801,\n",
              " 'information': 802,\n",
              " 'almond': 803,\n",
              " 'pie': 804,\n",
              " 'putting': 805,\n",
              " 'near': 806,\n",
              " 'saying': 807,\n",
              " 'simple': 808,\n",
              " 'garlic': 809,\n",
              " 'fantastic': 810,\n",
              " 'caramel': 811,\n",
              " 'chunks': 812,\n",
              " 'reviewer': 813,\n",
              " 'combination': 814,\n",
              " 'heavy': 815,\n",
              " 'hit': 816,\n",
              " 'barely': 817,\n",
              " 'understand': 818,\n",
              " 'dont': 819,\n",
              " 'discovered': 820,\n",
              " 'forward': 821,\n",
              " 'premium': 822,\n",
              " 'directions': 823,\n",
              " 'nasty': 824,\n",
              " 'stash': 825,\n",
              " 'replacement': 826,\n",
              " 'science': 827,\n",
              " 'standard': 828,\n",
              " 'warm': 829,\n",
              " 'serve': 830,\n",
              " 'sitting': 831,\n",
              " 'berry': 832,\n",
              " 'likely': 833,\n",
              " 'prices': 834,\n",
              " 'hold': 835,\n",
              " 'condition': 836,\n",
              " 'imagine': 837,\n",
              " 'individual': 838,\n",
              " 'priced': 839,\n",
              " 'sample': 840,\n",
              " 'plan': 841,\n",
              " 'figure': 842,\n",
              " 'salmon': 843,\n",
              " 'skin': 844,\n",
              " 'whether': 845,\n",
              " 'kitchen': 846,\n",
              " 'moist': 847,\n",
              " 'banana': 848,\n",
              " 'air': 849,\n",
              " 'refreshing': 850,\n",
              " 'test': 851,\n",
              " 'send': 852,\n",
              " 'suggest': 853,\n",
              " 'yellow': 854,\n",
              " 'process': 855,\n",
              " 'hungry': 856,\n",
              " 'grey': 857,\n",
              " 'christmas': 858,\n",
              " 'double': 859,\n",
              " 'unlike': 860,\n",
              " 'recipes': 861,\n",
              " 'refund': 862,\n",
              " 'wet': 863,\n",
              " 'form': 864,\n",
              " 'vitamins': 865,\n",
              " 'bones': 866,\n",
              " 'fit': 867,\n",
              " 'lunch': 868,\n",
              " 'known': 869,\n",
              " 'kept': 870,\n",
              " 'supermarket': 871,\n",
              " 'servings': 872,\n",
              " 'salad': 873,\n",
              " 'general': 874,\n",
              " 'usual': 875,\n",
              " 'coming': 876,\n",
              " 'rate': 877,\n",
              " 'slight': 878,\n",
              " 'raspberry': 879,\n",
              " 'lost': 880,\n",
              " 'working': 881,\n",
              " 'compare': 882,\n",
              " 'yogurt': 883,\n",
              " 'gas': 884,\n",
              " 'honestly': 885,\n",
              " 'heard': 886,\n",
              " 'sealed': 887,\n",
              " 'gotten': 888,\n",
              " 'turkey': 889,\n",
              " 'research': 890,\n",
              " 'lime': 891,\n",
              " 'alone': 892,\n",
              " 'middle': 893,\n",
              " 'paper': 894,\n",
              " 'odd': 895,\n",
              " 'wellness': 896,\n",
              " 'carry': 897,\n",
              " 'third': 898,\n",
              " 'site': 899,\n",
              " 'positive': 900,\n",
              " 'uses': 901,\n",
              " 'overly': 902,\n",
              " 'finding': 903,\n",
              " 'bone': 904,\n",
              " 'knew': 905,\n",
              " 'locally': 906,\n",
              " 'keeps': 907,\n",
              " 'strange': 908,\n",
              " 'turn': 909,\n",
              " 'disappointment': 910,\n",
              " 'grains': 911,\n",
              " 'balance': 912,\n",
              " 'plant': 913,\n",
              " 'main': 914,\n",
              " 'kick': 915,\n",
              " 'control': 916,\n",
              " 'offered': 917,\n",
              " 'considering': 918,\n",
              " 'drinker': 919,\n",
              " 'sized': 920,\n",
              " 'bake': 921,\n",
              " 'room': 922,\n",
              " 'processed': 923,\n",
              " 'stand': 924,\n",
              " 'ready': 925,\n",
              " 'chance': 926,\n",
              " 'grounds': 927,\n",
              " 'filled': 928,\n",
              " 'mistake': 929,\n",
              " 'blood': 930,\n",
              " 'generally': 931,\n",
              " 'breath': 932,\n",
              " 'level': 933,\n",
              " 'wow': 934,\n",
              " 'receive': 935,\n",
              " 'jars': 936,\n",
              " 'rope': 937,\n",
              " 'italian': 938,\n",
              " 'sensitive': 939,\n",
              " 'shelf': 940,\n",
              " 'meals': 941,\n",
              " 'source': 942,\n",
              " 'offer': 943,\n",
              " 'including': 944,\n",
              " 'paying': 945,\n",
              " 'trouble': 946,\n",
              " 'gourmet': 947,\n",
              " 'manufacturer': 948,\n",
              " 'earl': 949,\n",
              " 'solid': 950,\n",
              " 'shampoo': 951,\n",
              " 'beware': 952,\n",
              " 'possible': 953,\n",
              " 'watery': 954,\n",
              " 'fill': 955,\n",
              " 'mentioned': 956,\n",
              " 'states': 957,\n",
              " 'satisfying': 958,\n",
              " 'job': 959,\n",
              " 'disgusting': 960,\n",
              " 'pour': 961,\n",
              " 'unpleasant': 962,\n",
              " 'asked': 963,\n",
              " 'wrapped': 964,\n",
              " 'became': 965,\n",
              " 'convenience': 966,\n",
              " 'bring': 967,\n",
              " 'important': 968,\n",
              " 'anywhere': 969,\n",
              " 'types': 970,\n",
              " 'careful': 971,\n",
              " 'contents': 972,\n",
              " 'mango': 973,\n",
              " 'straight': 974,\n",
              " 'zico': 975,\n",
              " 'mixing': 976,\n",
              " 'happened': 977,\n",
              " 'pouch': 978,\n",
              " 'nature': 979,\n",
              " 'safe': 980,\n",
              " 'obviously': 981,\n",
              " 'carbonated': 982,\n",
              " 'clearly': 983,\n",
              " 'system': 984,\n",
              " 'pricey': 985,\n",
              " 'burnt': 986,\n",
              " 'gross': 987,\n",
              " 'plenty': 988,\n",
              " 'peanuts': 989,\n",
              " 'shape': 990,\n",
              " 'sea': 991,\n",
              " 'dollars': 992,\n",
              " 'negative': 993,\n",
              " 'area': 994,\n",
              " 'hands': 995,\n",
              " 'lbs': 996,\n",
              " 'extract': 997,\n",
              " 'reasonable': 998,\n",
              " 'realize': 999,\n",
              " 'subtle': 1000,\n",
              " ...}"
            ]
          },
          "metadata": {
            "tags": []
          },
          "execution_count": 39
        }
      ]
    },
    {
      "cell_type": "code",
      "metadata": {
        "id": "AKT1jpk8vMnD"
      },
      "source": [
        "# convert text to sequence of tokens and pad them to ensure equal length vectors \n",
        "train_seq_x = sequence.pad_sequences(token.texts_to_sequences(train_x), maxlen=80)\n",
        "valid_seq_x = sequence.pad_sequences(token.texts_to_sequences(valid_x), maxlen=80)"
      ],
      "execution_count": null,
      "outputs": []
    },
    {
      "cell_type": "code",
      "metadata": {
        "id": "-csMY8dhvay6"
      },
      "source": [
        "5# create token-embedding mapping\n",
        "embedding_matrix = np.zeros((len(word_index) + 1, 300))\n",
        "for word, i in word_index.items():\n",
        "    embedding_vector = embeddings_index.get(word)\n",
        "    if embedding_vector is not None:\n",
        "        embedding_matrix[i] = embedding_vector"
      ],
      "execution_count": null,
      "outputs": []
    },
    {
      "cell_type": "markdown",
      "metadata": {
        "id": "tUosEf08SlPE"
      },
      "source": [
        "# 3. **Model Building**\n",
        ">The final step in the text classification framework is to train a classifier using the features created in the previous step. There are many different choices of machine learning models which can be used to train a final model.\n",
        "* Naive Bayes Classifier\n",
        "* Linear Classifier / Logistic Regression\n",
        "* Support Vector Machine\n",
        "* Random Forest Classifier\n",
        "* Boosting Model\n",
        "* Shallow Neural Networks\n",
        "* Deep Neural Networks\n",
        "  1. Convolutional Neural Network (CNN)\n",
        "  2.Long Short Term Modelr (LSTM)\n",
        "  3.Gated Recurrent Unit (GRU)\n",
        "  4.Bidirectional RNN\n",
        "  5.Recurrent Convolutional Neural Network (RCNN)\n",
        "\n",
        ">The following function is a utility function which can be used to train a model. It accepts the classifier, feature_vector of training data, labels of training data and feature vectors of valid data as inputs. Using these inputs, the model is trained and accuracy score is computed.\n",
        "\n"
      ]
    },
    {
      "cell_type": "code",
      "metadata": {
        "id": "ASFGTrZaTxxj"
      },
      "source": [
        "def train_model(classifier, feature_vector_train, label, feature_vector_valid, is_neural_net=False):\n",
        "    # fit the training dataset on the classifier\n",
        "    classifier.fit(feature_vector_train, label)\n",
        "    \n",
        "    # predict the labels on validation dataset\n",
        "    predictions = classifier.predict(feature_vector_valid)\n",
        "    \n",
        "    if is_neural_net:\n",
        "        predictions = predictions.argmax(axis=-1)\n",
        "    \n",
        "    return metrics.accuracy_score(predictions, valid_y)"
      ],
      "execution_count": null,
      "outputs": []
    },
    {
      "cell_type": "markdown",
      "metadata": {
        "id": "7gJPJCpoUR4o"
      },
      "source": [
        "## 3.1 Naive Bayes Classifier"
      ]
    },
    {
      "cell_type": "code",
      "metadata": {
        "colab": {
          "base_uri": "https://localhost:8080/"
        },
        "id": "rRqNTmaUUCzP",
        "outputId": "a20c77d5-c240-4d0b-f3e6-726ae762ae3c"
      },
      "source": [
        "# Naive Bayes on Count Vectors\n",
        "accuracy_NB = [0]*4\n",
        "accuracy_NB[0] = train_model(naive_bayes.MultinomialNB(), xtrain_count, train_y, xvalid_count)\n",
        "print(\"Naive Bayes, Count Vectors:\", round(accuracy_NB[0]*100,2), '%')"
      ],
      "execution_count": null,
      "outputs": [
        {
          "output_type": "stream",
          "text": [
            "Naive Bayes, Count Vectors: 68.94 %\n"
          ],
          "name": "stdout"
        }
      ]
    },
    {
      "cell_type": "code",
      "metadata": {
        "colab": {
          "base_uri": "https://localhost:8080/"
        },
        "id": "b-hVzldlUqgo",
        "outputId": "7710f817-e714-4720-9519-39601e9dd09e"
      },
      "source": [
        "# Naive Bayes on Word Level TF IDF Vectors\n",
        "accuracy_NB[1] = train_model(naive_bayes.MultinomialNB(), xtrain_tfidf, train_y, xvalid_tfidf)\n",
        "print(\"Naive Bayes, WordLevel TF-IDF:\", round(accuracy_NB[1]*100,2), '%')"
      ],
      "execution_count": null,
      "outputs": [
        {
          "output_type": "stream",
          "text": [
            "Naive Bayes, WordLevel TF-IDF: 68.0 %\n"
          ],
          "name": "stdout"
        }
      ]
    },
    {
      "cell_type": "code",
      "metadata": {
        "colab": {
          "base_uri": "https://localhost:8080/"
        },
        "id": "GDbPLoLXW7vD",
        "outputId": "823641f6-ff8a-4e0b-d8e7-c1fa46b3b2a2"
      },
      "source": [
        "# Naive Bayes on Ngram Level TF IDF Vectors\n",
        "accuracy_NB[2] = train_model(naive_bayes.MultinomialNB(), xtrain_tfidf_ngram, train_y, xvalid_tfidf_ngram)\n",
        "print(\"Naive Bayes, N-gram TF-IDF:\", round(accuracy_NB[2]*100,2), '%')"
      ],
      "execution_count": null,
      "outputs": [
        {
          "output_type": "stream",
          "text": [
            "Naive Bayes, N-gram TF-IDF: 62.79 %\n"
          ],
          "name": "stdout"
        }
      ]
    },
    {
      "cell_type": "code",
      "metadata": {
        "colab": {
          "base_uri": "https://localhost:8080/"
        },
        "id": "1o89StAlXDLm",
        "outputId": "92d90858-f72c-44f0-cc62-d6cf2e08b7d7"
      },
      "source": [
        "# Naive Bayes on Character Level TF IDF Vectors\n",
        "accuracy_NB[3] = train_model(naive_bayes.MultinomialNB(), xtrain_tfidf_ngram_chars, train_y, xvalid_tfidf_ngram_chars)\n",
        "print(\"Naive Bayes, CharLevel vector:\", round(accuracy_NB[3]*100,2), '%')"
      ],
      "execution_count": null,
      "outputs": [
        {
          "output_type": "stream",
          "text": [
            "Naive Bayes, CharLevel vector: 64.11 %\n"
          ],
          "name": "stdout"
        }
      ]
    },
    {
      "cell_type": "code",
      "metadata": {
        "id": "SSj8hbngZ7fp"
      },
      "source": [
        "accuracy_NB = [round(i*100,2) for i in accuracy_NB]"
      ],
      "execution_count": null,
      "outputs": []
    },
    {
      "cell_type": "code",
      "metadata": {
        "colab": {
          "base_uri": "https://localhost:8080/",
          "height": 295
        },
        "id": "YDUZTKfkXGQG",
        "outputId": "455531ec-4826-417c-9854-4035b61d6369"
      },
      "source": [
        "plot(['Count Vectors', 'WordLevel TF-IDF', 'N-gram TF-IDF', 'CharLevel vector'],accuracy_NB, 'Vector type', 'Accuracy (%)', 'Naive Bayes Model','-bo')"
      ],
      "execution_count": null,
      "outputs": [
        {
          "output_type": "display_data",
          "data": {
            "image/png": "[encoded data removed]",
            "text/plain": [
              "<Figure size 432x288 with 1 Axes>"
            ]
          },
          "metadata": {
            "tags": [],
            "needs_background": "light"
          }
        }
      ]
    },
    {
      "cell_type": "markdown",
      "metadata": {
        "id": "ooxRpnGrb9o3"
      },
      "source": [
        "So, from above analysis we can say that Naive bayes performs best with Count vectors"
      ]
    },
    {
      "cell_type": "markdown",
      "metadata": {
        "id": "XaZxpewZt7F-"
      },
      "source": [
        "## 3.2 Linear Classifier/ Logistic Regression"
      ]
    },
    {
      "cell_type": "code",
      "metadata": {
        "colab": {
          "base_uri": "https://localhost:8080/"
        },
        "id": "eCk_gpmTbLGN",
        "outputId": "841881e2-4444-48a9-f904-f628b06cb219"
      },
      "source": [
        "accuracy_LR = [0]*4\n",
        "\n",
        "# Linear Classifier on Count Vectors\n",
        "accuracy_LR[0] = train_model(linear_model.LogisticRegression(max_iter=1000), xtrain_count, train_y, xvalid_count)\n",
        "print(\"Logistic Regression, Count Vectors:\", round(accuracy_LR[0]*100,2), '%')"
      ],
      "execution_count": null,
      "outputs": [
        {
          "output_type": "stream",
          "text": [
            "Logistic Regression, Count Vectors: 73.22 %\n"
          ],
          "name": "stdout"
        }
      ]
    },
    {
      "cell_type": "code",
      "metadata": {
        "colab": {
          "base_uri": "https://localhost:8080/"
        },
        "id": "ci-V16zGulJz",
        "outputId": "caa50dc9-09eb-46a8-a76d-8a3cd10224ef"
      },
      "source": [
        "# Linear Classifier on Word Level TF IDF Vectors\n",
        "accuracy_LR[1] = train_model(linear_model.LogisticRegression(max_iter=1000), xtrain_tfidf, train_y, xvalid_tfidf)\n",
        "print(\"Logistic Regression, WordLevel TF-IDF:\", round(accuracy_LR[1]*100,2), '%')"
      ],
      "execution_count": null,
      "outputs": [
        {
          "output_type": "stream",
          "text": [
            "Logistic Regression, WordLevel TF-IDF: 72.07 %\n"
          ],
          "name": "stdout"
        }
      ]
    },
    {
      "cell_type": "code",
      "metadata": {
        "colab": {
          "base_uri": "https://localhost:8080/"
        },
        "id": "efHktN6ZyXsD",
        "outputId": "cb298d33-27cb-46a7-ad1e-cda21607ff53"
      },
      "source": [
        "# Linear Classifier on Ngram Level TF IDF Vectors\n",
        "accuracy_LR[2] = train_model(linear_model.LogisticRegression(max_iter=1000), xtrain_tfidf_ngram, train_y, xvalid_tfidf_ngram)\n",
        "print(\"Logistic Regression, N-Gram Vectors:\", round(accuracy_LR[2]*100,2), '%')\n"
      ],
      "execution_count": null,
      "outputs": [
        {
          "output_type": "stream",
          "text": [
            "Logistic Regression, N-Gram Vectors: 63.04 %\n"
          ],
          "name": "stdout"
        }
      ]
    },
    {
      "cell_type": "code",
      "metadata": {
        "colab": {
          "base_uri": "https://localhost:8080/"
        },
        "id": "sdkrcc8bzK8T",
        "outputId": "8b5a180a-1a6e-460a-9c23-b91e5c8d43c0"
      },
      "source": [
        "# Linear Classifier on Character Level TF IDF Vectors\n",
        "accuracy_LR[3] = train_model(linear_model.LogisticRegression(max_iter=1000), xtrain_tfidf_ngram_chars, train_y, xvalid_tfidf_ngram_chars)\n",
        "print(\"Logistic Regression, CharLevel Vectors:\", round(accuracy_LR[3]*100,2), '%')"
      ],
      "execution_count": null,
      "outputs": [
        {
          "output_type": "stream",
          "text": [
            "Logistic Regression, CharLevel Vectors: 69.12 %\n"
          ],
          "name": "stdout"
        }
      ]
    },
    {
      "cell_type": "code",
      "metadata": {
        "id": "b8JMyF0C4t6v"
      },
      "source": [
        "accuracy_LR = [round(i*100,2) for i in accuracy_LR]"
      ],
      "execution_count": null,
      "outputs": []
    },
    {
      "cell_type": "code",
      "metadata": {
        "colab": {
          "base_uri": "https://localhost:8080/",
          "height": 295
        },
        "id": "L20QJrqYzl76",
        "outputId": "f674c5c9-71d0-4805-dbae-b043db178fc3"
      },
      "source": [
        "plot(['Count Vectors', 'WordLevel TF-IDF', 'N-gram TF-IDF', 'CharLevel vector'],accuracy_LR, 'Vector type', 'Accuracy (%)', 'Logistic Regression Model','-bo')"
      ],
      "execution_count": null,
      "outputs": [
        {
          "output_type": "display_data",
          "data": {
            "image/png": "[encoded data removed]",
            "text/plain": [
              "<Figure size 432x288 with 1 Axes>"
            ]
          },
          "metadata": {
            "tags": [],
            "needs_background": "light"
          }
        }
      ]
    },
    {
      "cell_type": "markdown",
      "metadata": {
        "id": "T52Y1HZF5_ym"
      },
      "source": [
        "##3.3 Support Vector Machine (SVM)"
      ]
    },
    {
      "cell_type": "code",
      "metadata": {
        "colab": {
          "base_uri": "https://localhost:8080/"
        },
        "id": "17yU35Wk4pEz",
        "outputId": "80d4e7ed-bd0f-4ab7-d364-7d76a4bee85d"
      },
      "source": [
        "accuracy_SVM = [0]*4\n",
        "\n",
        "# SVM on Count vectors\n",
        "accuracy_SVM[0] = train_model(svm.LinearSVC(max_iter=20000), xtrain_count, train_y, xvalid_count)\n",
        "print(\"SVM, Count Vectors:\", round(accuracy_SVM[0]*100,2), '%')"
      ],
      "execution_count": null,
      "outputs": [
        {
          "output_type": "stream",
          "text": [
            "SVM, Count Vectors: 72.08 %\n"
          ],
          "name": "stdout"
        },
        {
          "output_type": "stream",
          "text": [
            "/usr/local/lib/python3.6/dist-packages/sklearn/svm/_base.py:947: ConvergenceWarning: Liblinear failed to converge, increase the number of iterations.\n",
            "  \"the number of iterations.\", ConvergenceWarning)\n"
          ],
          "name": "stderr"
        }
      ]
    },
    {
      "cell_type": "code",
      "metadata": {
        "colab": {
          "base_uri": "https://localhost:8080/"
        },
        "id": "_xaV16S59FxX",
        "outputId": "5230deaa-0326-4916-f994-e4fbc2eb4f25"
      },
      "source": [
        "# SVM on Word Level TF IDF Vectors\n",
        "accuracy_SVM[1] = train_model(svm.LinearSVC(max_iter=20000), xtrain_tfidf, train_y, xvalid_tfidf)\n",
        "print(\"SVM, WordLevel TF-IDF:\", round(accuracy_SVM[1]*100,2), '%')"
      ],
      "execution_count": null,
      "outputs": [
        {
          "output_type": "stream",
          "text": [
            "SVM, WordLevel TF-IDF: 71.25 %\n"
          ],
          "name": "stdout"
        }
      ]
    },
    {
      "cell_type": "code",
      "metadata": {
        "colab": {
          "base_uri": "https://localhost:8080/"
        },
        "id": "OXs5KreD6iL6",
        "outputId": "e4fcdcab-bcc6-41ba-cb03-c4d740762a27"
      },
      "source": [
        "# SVM on Ngram Level TF IDF Vectors\n",
        "accuracy_SVM[2] = train_model(svm.LinearSVC(max_iter=20000), xtrain_tfidf_ngram, train_y, xvalid_tfidf_ngram)\n",
        "print(\"SVM, N-Gram Vectors: \", round(accuracy_SVM[2]*100,2), '%')"
      ],
      "execution_count": null,
      "outputs": [
        {
          "output_type": "stream",
          "text": [
            "SVM, N-Gram Vectors:  62.66 %\n"
          ],
          "name": "stdout"
        }
      ]
    },
    {
      "cell_type": "code",
      "metadata": {
        "colab": {
          "base_uri": "https://localhost:8080/"
        },
        "id": "L25BlEow9YUj",
        "outputId": "a2604158-ed20-43b3-8275-4d215e0d0919"
      },
      "source": [
        "# SVM on Character Level TF IDF Vectors\n",
        "accuracy_SVM[3] = train_model(svm.LinearSVC(max_iter=20000), xtrain_tfidf_ngram_chars, train_y, xvalid_tfidf_ngram_chars)\n",
        "print(\"Logistic Regression, CharLevel Vectors:\", round(accuracy_SVM[3]*100,2), '%')"
      ],
      "execution_count": null,
      "outputs": [
        {
          "output_type": "stream",
          "text": [
            "Logistic Regression, CharLevel Vectors: 69.34 %\n"
          ],
          "name": "stdout"
        }
      ]
    },
    {
      "cell_type": "code",
      "metadata": {
        "id": "A9uUlZ1cEsNz"
      },
      "source": [
        "accuracy_SVM = [round(i*100,2) for i in accuracy_SVM]\n",
        "accuracy_SVM"
      ],
      "execution_count": null,
      "outputs": []
    },
    {
      "cell_type": "code",
      "metadata": {
        "colab": {
          "base_uri": "https://localhost:8080/",
          "height": 295
        },
        "id": "MDutYmZSWtYw",
        "outputId": "6e2fe86a-cda4-4f80-b696-21699d5847ee"
      },
      "source": [
        "plot(['Count Vectors', 'WordLevel TF-IDF', 'N-gram TF-IDF', 'CharLevel vector'],accuracy_SVM, 'Vector type', 'Accuracy (%)', 'SVM Model','-bo')"
      ],
      "execution_count": null,
      "outputs": [
        {
          "output_type": "display_data",
          "data": {
            "image/png": "[encoded data removed]",
            "text/plain": [
              "<Figure size 432x288 with 1 Axes>"
            ]
          },
          "metadata": {
            "tags": [],
            "needs_background": "light"
          }
        }
      ]
    },
    {
      "cell_type": "markdown",
      "metadata": {
        "id": "HIC8KT0Rd-nA"
      },
      "source": [
        "## 3.4 Random Forest Classifier"
      ]
    },
    {
      "cell_type": "code",
      "metadata": {
        "id": "U9FHT_92eekT"
      },
      "source": [
        "accuracy_RF = [0]*4"
      ],
      "execution_count": null,
      "outputs": []
    },
    {
      "cell_type": "code",
      "metadata": {
        "colab": {
          "base_uri": "https://localhost:8080/"
        },
        "id": "a1qrvczTW2pb",
        "outputId": "fd0a570a-4742-4db5-cbe2-bfb4b8d682ce"
      },
      "source": [
        "# RF on Count Vectors\n",
        "accuracy_RF[0] = train_model(ensemble.RandomForestClassifier(), xtrain_count, train_y, xvalid_count)\n",
        "print(\"Random Forest, Count Vectors:\", round(accuracy_RF[0]*100,2), '%')"
      ],
      "execution_count": null,
      "outputs": [
        {
          "output_type": "stream",
          "text": [
            "Random Forest, Count Vectors: 73.87 %\n"
          ],
          "name": "stdout"
        }
      ]
    },
    {
      "cell_type": "code",
      "metadata": {
        "colab": {
          "base_uri": "https://localhost:8080/"
        },
        "id": "7LKqhbDofgDH",
        "outputId": "ae1649ec-bbe0-44ad-8ae1-3093abba2a0e"
      },
      "source": [
        "# RF on Word Level TF IDF Vectors\n",
        "accuracy_RF[1] = train_model(ensemble.RandomForestClassifier(), xtrain_tfidf, train_y, xvalid_tfidf)\n",
        "print(\"Random Forest, WordLevel TF-IDF:\", round(accuracy_RF[1]*100,2), '%')"
      ],
      "execution_count": null,
      "outputs": [
        {
          "output_type": "stream",
          "text": [
            "Random Forest, WordLevel TF-IDF: 73.27 %\n"
          ],
          "name": "stdout"
        }
      ]
    },
    {
      "cell_type": "code",
      "metadata": {
        "colab": {
          "base_uri": "https://localhost:8080/"
        },
        "id": "y0xYeJAEfzCO",
        "outputId": "f6016f82-4d7b-444d-a386-5d192d511683"
      },
      "source": [
        "# RF on N-gram Vectors\n",
        "accuracy_RF[2] = train_model(ensemble.RandomForestClassifier(), xtrain_tfidf_ngram, train_y, xvalid_tfidf_ngram)\n",
        "print(\"Random Forest, N-Gram Vectors:\", round(accuracy_RF[2]*100, 2), '%')"
      ],
      "execution_count": null,
      "outputs": [
        {
          "output_type": "stream",
          "text": [
            "Random Forest, N-Gram Vectors: 65.47 %\n"
          ],
          "name": "stdout"
        }
      ]
    },
    {
      "cell_type": "code",
      "metadata": {
        "colab": {
          "base_uri": "https://localhost:8080/"
        },
        "id": "opfCHOHgkDE-",
        "outputId": "01ac3178-49e6-4245-cada-3b7038bfe0ab"
      },
      "source": [
        "# RF on Character Level TF IDF Vectors\n",
        "accuracy_RF[3] = train_model(ensemble.RandomForestClassifier(), xtrain_tfidf_ngram_chars, train_y, xvalid_tfidf_ngram_chars)\n",
        "print(\"Random Forest, N-Gram Vectors:\", round(accuracy_RF[3]*100, 2), '%')\n",
        "accuracy_RF[3] = accuracy_RF[3]*100"
      ],
      "execution_count": null,
      "outputs": [
        {
          "output_type": "stream",
          "text": [
            "Random Forest, N-Gram Vectors: 69.18 %\n"
          ],
          "name": "stdout"
        }
      ]
    },
    {
      "cell_type": "code",
      "metadata": {
        "colab": {
          "base_uri": "https://localhost:8080/"
        },
        "id": "pwSUSYmnk4li",
        "outputId": "d8f5f72a-7039-49a1-e723-0339a9457fda"
      },
      "source": [
        "accuracy_RF = [round(i*100,2) for i in accuracy_RF]\n",
        "accuracy_RF"
      ],
      "execution_count": null,
      "outputs": [
        {
          "output_type": "execute_result",
          "data": {
            "text/plain": [
              "[73.87, 73.27, 65.47, 65.42]"
            ]
          },
          "metadata": {
            "tags": []
          },
          "execution_count": 93
        }
      ]
    },
    {
      "cell_type": "code",
      "metadata": {
        "colab": {
          "base_uri": "https://localhost:8080/",
          "height": 295
        },
        "id": "gCuUMoUolNa1",
        "outputId": "cccf503d-aef7-4bef-b40e-a46d8729a76f"
      },
      "source": [
        "plot(['Count Vectors', 'WordLevel TF-IDF', 'N-gram TF-IDF', 'CharLevel vector'],accuracy_RF, 'Vector type', 'Accuracy (%)', 'Random Forest Classifier','-bo')"
      ],
      "execution_count": null,
      "outputs": [
        {
          "output_type": "display_data",
          "data": {
            "image/png": "[encoded data removed]",
            "text/plain": [
              "<Figure size 432x288 with 1 Axes>"
            ]
          },
          "metadata": {
            "tags": [],
            "needs_background": "light"
          }
        }
      ]
    },
    {
      "cell_type": "markdown",
      "metadata": {
        "id": "Isstv6NGnLFy"
      },
      "source": [
        "## 3.5 Boosting Model (XgBoost)"
      ]
    },
    {
      "cell_type": "code",
      "metadata": {
        "id": "MDUvW3_NnnVG"
      },
      "source": [
        "accuracy_XGB = [0]*4"
      ],
      "execution_count": null,
      "outputs": []
    },
    {
      "cell_type": "code",
      "metadata": {
        "colab": {
          "base_uri": "https://localhost:8080/"
        },
        "id": "hzUgb2WDl5Af",
        "outputId": "cccf453c-358c-4b4f-d391-2e3413ca27f4"
      },
      "source": [
        "# Extereme Gradient Boosting on Count Vectors\n",
        "accuracy_XGB[0] = train_model(xgboost.XGBClassifier(), xtrain_count.tocsc(), train_y, xvalid_count.tocsc())\n",
        "print(\"Xgb, Count Vectors:\", round(accuracy_XGB[0]*100,2), '%')"
      ],
      "execution_count": null,
      "outputs": [
        {
          "output_type": "stream",
          "text": [
            "Xgb, Count Vectors: 62.56 %\n"
          ],
          "name": "stdout"
        }
      ]
    },
    {
      "cell_type": "code",
      "metadata": {
        "colab": {
          "base_uri": "https://localhost:8080/"
        },
        "id": "yUVi3U7en8ni",
        "outputId": "f447edb8-fb44-4b85-d083-e00708b53162"
      },
      "source": [
        "# Extereme Gradient Boosting on Word Level TF IDF Vectors\n",
        "accuracy_XGB[1] = train_model(xgboost.XGBClassifier(), xtrain_tfidf.tocsc(), train_y, xvalid_tfidf.tocsc())\n",
        "print(\"Xgb, WordLevel TF-IDF:\", round(accuracy_XGB[1]*100,2),'%')"
      ],
      "execution_count": null,
      "outputs": [
        {
          "output_type": "stream",
          "text": [
            "Xgb, WordLevel TF-IDF: 62.69 %\n"
          ],
          "name": "stdout"
        }
      ]
    },
    {
      "cell_type": "code",
      "metadata": {
        "colab": {
          "base_uri": "https://localhost:8080/"
        },
        "id": "JGylTySNozNp",
        "outputId": "89d88f94-f409-430e-d8c2-f23ed277e803"
      },
      "source": [
        "# Extereme Gradient Boosting on N-gram TF IDF Vectors\n",
        "accuracy_XGB[2] = train_model(xgboost.XGBClassifier(), xtrain_tfidf_ngram_chars.tocsc(), train_y, xvalid_tfidf_ngram_chars.tocsc())\n",
        "print('Xgb, N-gram TF-IDF vector:', round(accuracy_XGB[2]*100,2),'%')"
      ],
      "execution_count": null,
      "outputs": [
        {
          "output_type": "stream",
          "text": [
            "Xgb, N-gram TF-IDF vector: 63.2 %\n"
          ],
          "name": "stdout"
        }
      ]
    },
    {
      "cell_type": "code",
      "metadata": {
        "colab": {
          "base_uri": "https://localhost:8080/"
        },
        "id": "yhPYb0Q4oUtq",
        "outputId": "0147c8f9-663d-4bd8-fa66-d6356dfd15b5"
      },
      "source": [
        "# Extereme Gradient Boosting on Character Level TF IDF Vectors\n",
        "accuracy_XGB[3] = train_model(xgboost.XGBClassifier(), xtrain_tfidf_ngram_chars.tocsc(), train_y, xvalid_tfidf_ngram_chars.tocsc())\n",
        "print('Xgb, Character vector TF-IDF vector:', round(accuracy_XGB[3]*100,2),'%')"
      ],
      "execution_count": null,
      "outputs": [
        {
          "output_type": "stream",
          "text": [
            "Xgb, Character vector TF-IDF vector: 63.2 %\n"
          ],
          "name": "stdout"
        }
      ]
    },
    {
      "cell_type": "code",
      "metadata": {
        "colab": {
          "base_uri": "https://localhost:8080/"
        },
        "id": "KPYtPf69sh50",
        "outputId": "7044bd93-e06a-4c5f-87a4-53e78b3735a7"
      },
      "source": [
        "accuracy_XGB = [round(i*100,2) for i in accuracy_XGB]\n",
        "accuracy_XGB"
      ],
      "execution_count": null,
      "outputs": [
        {
          "output_type": "execute_result",
          "data": {
            "text/plain": [
              "[62.56, 62.69, 63.2, 63.2]"
            ]
          },
          "metadata": {
            "tags": []
          },
          "execution_count": 104
        }
      ]
    },
    {
      "cell_type": "code",
      "metadata": {
        "colab": {
          "base_uri": "https://localhost:8080/",
          "height": 295
        },
        "id": "3neXthf4tK0p",
        "outputId": "bb6bbbce-9619-43f6-ed5f-0f0e6347ea3a"
      },
      "source": [
        "plot(['Count Vectors', 'WordLevel TF-IDF', 'N-gram TF-IDF', 'CharLevel vector'],accuracy_XGB, 'Vector type', 'Accuracy (%)', 'Xg Boost Classifier','-bo')"
      ],
      "execution_count": null,
      "outputs": [
        {
          "output_type": "display_data",
          "data": {
            "image/png": "[encoded data removed]",
            "text/plain": [
              "<Figure size 432x288 with 1 Axes>"
            ]
          },
          "metadata": {
            "tags": [],
            "needs_background": "light"
          }
        }
      ]
    },
    {
      "cell_type": "markdown",
      "metadata": {
        "id": "x1_JV6VQwqX8"
      },
      "source": [
        "Let's compare all the models"
      ]
    },
    {
      "cell_type": "code",
      "metadata": {
        "colab": {
          "base_uri": "https://localhost:8080/",
          "height": 513
        },
        "id": "r8OWtVc_uFoH",
        "outputId": "42311bd6-2cfc-4bd6-c7e3-229e81b06331"
      },
      "source": [
        "plt.figure(figsize=[13, 8])\n",
        "plt.plot(['Count Vectors', 'WordLevel TF-IDF', 'N-gram TF-IDF', 'CharLevel vector'], accuracy_NB, label = 'Naive Bayes')\n",
        "plt.plot(['Count Vectors', 'WordLevel TF-IDF', 'N-gram TF-IDF', 'CharLevel vector'], accuracy_LR, label = 'Logistic Regression')\n",
        "plt.plot(['Count Vectors', 'WordLevel TF-IDF', 'N-gram TF-IDF', 'CharLevel vector'], accuracy_SVM, label = 'SVM')\n",
        "plt.plot(['Count Vectors', 'WordLevel TF-IDF', 'N-gram TF-IDF', 'CharLevel vector'], accuracy_RF, label = 'Random Forest')\n",
        "plt.plot(['Count Vectors', 'WordLevel TF-IDF', 'N-gram TF-IDF', 'CharLevel vector'], accuracy_XGB, label = 'Xg Boost')\n",
        "plt.title('Comparision of different models')\n",
        "plt.legend(bbox_to_anchor=(1.05, 1), loc='upper left', borderaxespad=0.)\n",
        "plt.xlabel('Type of Vector')\n",
        "plt.ylabel('Accuracy (%)')\n",
        "plt.show()"
      ],
      "execution_count": null,
      "outputs": [
        {
          "output_type": "display_data",
          "data": {
            "image/png": "[encoded data removed]",
            "text/plain": [
              "<Figure size 936x576 with 1 Axes>"
            ]
          },
          "metadata": {
            "tags": [],
            "needs_background": "light"
          }
        }
      ]
    },
    {
      "cell_type": "markdown",
      "metadata": {
        "id": "ZiACstRO3VNy"
      },
      "source": [
        "## 3.6 Shallow Neural Networks"
      ]
    },
    {
      "cell_type": "code",
      "metadata": {
        "id": "HajqUz7kXDw3"
      },
      "source": [
        "from tensorflow.keras import layers, models, optimizers\n",
        "from tensorflow import one_hot\n",
        "from tensorflow.keras.preprocessing.sequence import pad_sequences\n",
        "from tensorflow.keras.models import Sequential\n",
        "from keras.layers.core import Activation\n",
        "from tensorflow.keras.layers import Input, Flatten, Embedding, LSTM, Dropout, Dense, GlobalMaxPooling1D, Concatenate\n",
        "from tensorflow.keras.models import Model\n",
        "from tensorflow.keras.preprocessing.text import Tokenizer\n",
        "from tensorflow.keras.utils import plot_model\n",
        "from IPython.display import display, Image\n",
        "from sklearn.preprocessing import OneHotEncoder, LabelBinarizer\n",
        "from tensorflow.keras.callbacks import EarlyStopping"
      ],
      "execution_count": null,
      "outputs": []
    },
    {
      "cell_type": "code",
      "metadata": {
        "id": "lxuBwTi7mkUL"
      },
      "source": [
        "X = list(dataset['Text'])\n",
        "Y = LabelBinarizer().fit_transform(dataset.Sentiment)"
      ],
      "execution_count": null,
      "outputs": []
    },
    {
      "cell_type": "code",
      "metadata": {
        "colab": {
          "base_uri": "https://localhost:8080/"
        },
        "id": "uQ12reohp26O",
        "outputId": "a35c8a5d-0bbd-4392-aca3-baaf2318b0d5"
      },
      "source": [
        "x = 1\n",
        "dataset['Sentiment'][x], Y[x]"
      ],
      "execution_count": null,
      "outputs": [
        {
          "output_type": "execute_result",
          "data": {
            "text/plain": [
              "('negative', array([1, 0, 0]))"
            ]
          },
          "metadata": {
            "tags": []
          },
          "execution_count": 43
        }
      ]
    },
    {
      "cell_type": "code",
      "metadata": {
        "id": "NYeg5Asy75Q3"
      },
      "source": [
        "train_x, test_x, train_y, test_y = model_selection.train_test_split(X, Y, test_size = 0.2)"
      ],
      "execution_count": null,
      "outputs": []
    },
    {
      "cell_type": "code",
      "metadata": {
        "id": "tYILWVwpFB7b"
      },
      "source": [
        "tokenizer = Tokenizer()\n",
        "tokenizer.fit_on_texts(dataset['Text'])"
      ],
      "execution_count": null,
      "outputs": []
    },
    {
      "cell_type": "code",
      "metadata": {
        "id": "upwPTx15ZlkT"
      },
      "source": [
        "train_x = tokenizer.texts_to_sequences(train_x)\n",
        "test_x = tokenizer.texts_to_sequences(test_x)"
      ],
      "execution_count": null,
      "outputs": []
    },
    {
      "cell_type": "code",
      "metadata": {
        "id": "U6-NCSDpZyqf"
      },
      "source": [
        "vocab_size = len(tokenizer.word_index) + 1\n",
        "maxlen = 80"
      ],
      "execution_count": null,
      "outputs": []
    },
    {
      "cell_type": "code",
      "metadata": {
        "id": "QFlkMeGRaVQJ"
      },
      "source": [
        "train_x = pad_sequences(train_x, padding='post', maxlen=maxlen, truncating='post')\n",
        "test_x = pad_sequences(test_x, padding='post', maxlen=maxlen, truncating='post')"
      ],
      "execution_count": null,
      "outputs": []
    },
    {
      "cell_type": "code",
      "metadata": {
        "colab": {
          "base_uri": "https://localhost:8080/"
        },
        "id": "Pj_POmhGb4Bo",
        "outputId": "b13896b8-8716-4be8-9e67-e5eb6987a054"
      },
      "source": [
        "train_x[0]"
      ],
      "execution_count": null,
      "outputs": [
        {
          "output_type": "execute_result",
          "data": {
            "text/plain": [
              "array([ 11,   6,  46,  40,  65,  28, 436, 146,   0,   0,   0,   0,   0,\n",
              "         0,   0,   0,   0,   0,   0,   0,   0,   0,   0,   0,   0,   0,\n",
              "         0,   0,   0,   0,   0,   0,   0,   0,   0,   0,   0,   0,   0,\n",
              "         0,   0,   0,   0,   0,   0,   0,   0,   0,   0,   0,   0,   0,\n",
              "         0,   0,   0,   0,   0,   0,   0,   0,   0,   0,   0,   0,   0,\n",
              "         0,   0,   0,   0,   0,   0,   0,   0,   0,   0,   0,   0,   0,\n",
              "         0,   0], dtype=int32)"
            ]
          },
          "metadata": {
            "tags": []
          },
          "execution_count": 49
        }
      ]
    },
    {
      "cell_type": "code",
      "metadata": {
        "id": "zOqQgWs3Q4ot"
      },
      "source": [
        "es = EarlyStopping(monitor='val_loss', min_delta=0, patience=0, verbose=0, mode='auto', baseline=None, restore_best_weights=False)\n",
        "history = []\n",
        "scores = []\n",
        "loss_type = 'binary_crossentropy'\n",
        "accuracy_type = 'categorical_accuracy'"
      ],
      "execution_count": null,
      "outputs": []
    },
    {
      "cell_type": "code",
      "metadata": {
        "id": "JUituij-exYv"
      },
      "source": [
        "def print_model_architecture(model, name):\n",
        "  plot_model(model, to_file=name+'.png', show_shapes=True, show_layer_names=True)\n",
        "  display(Image(filename=name+'.png'))"
      ],
      "execution_count": null,
      "outputs": []
    },
    {
      "cell_type": "code",
      "metadata": {
        "id": "Sm1THZIVxAu8"
      },
      "source": [
        "def get_score(model):\n",
        "  score = model.evaluate(test_x, test_y, verbose=1)\n",
        "\n",
        "  \n",
        "\n",
        "  print(\"Test Score:\", score[0])\n",
        "  print(\"Test Accuracy:\", score[1])\n",
        "  return score"
      ],
      "execution_count": null,
      "outputs": []
    },
    {
      "cell_type": "code",
      "metadata": {
        "id": "nO44xtWa0a7v"
      },
      "source": [
        "def plot_results(history):\n",
        "  plt.plot(history.history[accuracy_type])\n",
        "  plt.plot(history.history['val_'+accuracy_type])\n",
        "\n",
        "  plt.title('model accuracy')\n",
        "  plt.ylabel('accuracy')\n",
        "  plt.xlabel('epoch')\n",
        "  plt.legend(['train','test'], loc='upper left')\n",
        "  plt.show()\n",
        "\n",
        "  plt.plot(history.history['loss'])\n",
        "  plt.plot(history.history['val_loss'])\n",
        "\n",
        "  plt.title('model loss')\n",
        "  plt.ylabel('loss')\n",
        "  plt.xlabel('epoch')\n",
        "  plt.legend(['train','test'], loc='upper left')\n",
        "  plt.show()"
      ],
      "execution_count": null,
      "outputs": []
    },
    {
      "cell_type": "code",
      "metadata": {
        "id": "rvF-mFSrxvkr"
      },
      "source": [
        "def shallow_NN(input_size):\n",
        "    # create input layer \n",
        "    input_layer = layers.Input((input_size, ), sparse=True)\n",
        "    \n",
        "    # create hidden layer\n",
        "    hidden_layer = layers.Dense(128, activation=\"relu\")(input_layer)\n",
        "    \n",
        "    # create output layer\n",
        "    output_layer = layers.Dense(3, activation=\"sigmoid\")(hidden_layer)\n",
        "\n",
        "    classifier = models.Model(inputs = input_layer, outputs = output_layer)\n",
        "    classifier.compile(optimizer=optimizers.Adam(), loss=loss_type, metrics = [accuracy_type])\n",
        "    \n",
        "    return classifier"
      ],
      "execution_count": null,
      "outputs": []
    },
    {
      "cell_type": "code",
      "metadata": {
        "id": "7v7x8tRDai8A"
      },
      "source": [
        "shallow_NN = shallow_NN(maxlen)"
      ],
      "execution_count": null,
      "outputs": []
    },
    {
      "cell_type": "code",
      "metadata": {
        "colab": {
          "base_uri": "https://localhost:8080/",
          "height": 312
        },
        "id": "G640-EJWeQCL",
        "outputId": "b14838ff-f1f2-4d95-d552-a31c7c72cfe7"
      },
      "source": [
        "print_model_architecture(shallow_NN, 'shallow_NN')"
      ],
      "execution_count": null,
      "outputs": [
        {
          "output_type": "display_data",
          "data": {
            "image/png": "[encoded data removed]",
            "text/plain": [
              "<IPython.core.display.Image object>"
            ]
          },
          "metadata": {
            "tags": []
          }
        }
      ]
    },
    {
      "cell_type": "code",
      "metadata": {
        "colab": {
          "base_uri": "https://localhost:8080/"
        },
        "id": "nDQRDFX3gxkx",
        "outputId": "98d35a9f-93b3-4267-877f-b4e53d34f03d"
      },
      "source": [
        "history_shallow = shallow_NN.fit(train_x, train_y, epochs=10, verbose=1, validation_split=0.2, callbacks=[es])\n",
        "history.append(history_shallow)"
      ],
      "execution_count": null,
      "outputs": [
        {
          "output_type": "stream",
          "text": [
            "Epoch 1/10\n",
            "1494/1494 [==============================] - 4s 3ms/step - loss: 116.6402 - categorical_accuracy: 0.3435 - val_loss: 35.4892 - val_categorical_accuracy: 0.3510\n",
            "Epoch 2/10\n",
            "1494/1494 [==============================] - 4s 3ms/step - loss: 16.2210 - categorical_accuracy: 0.3569 - val_loss: 6.1315 - val_categorical_accuracy: 0.3511\n",
            "Epoch 3/10\n",
            "1494/1494 [==============================] - 4s 3ms/step - loss: 4.4893 - categorical_accuracy: 0.3427 - val_loss: 3.3334 - val_categorical_accuracy: 0.3351\n",
            "Epoch 4/10\n",
            "1494/1494 [==============================] - 4s 3ms/step - loss: 2.3895 - categorical_accuracy: 0.3488 - val_loss: 1.6071 - val_categorical_accuracy: 0.3671\n",
            "Epoch 5/10\n",
            "1494/1494 [==============================] - 4s 3ms/step - loss: 1.1569 - categorical_accuracy: 0.3527 - val_loss: 0.8425 - val_categorical_accuracy: 0.3676\n",
            "Epoch 6/10\n",
            "1494/1494 [==============================] - 4s 3ms/step - loss: 0.7555 - categorical_accuracy: 0.3642 - val_loss: 0.7077 - val_categorical_accuracy: 0.3643\n",
            "Epoch 7/10\n",
            "1494/1494 [==============================] - 4s 3ms/step - loss: 0.6709 - categorical_accuracy: 0.3741 - val_loss: 0.6700 - val_categorical_accuracy: 0.3677\n",
            "Epoch 8/10\n",
            "1494/1494 [==============================] - 4s 3ms/step - loss: 0.6480 - categorical_accuracy: 0.3774 - val_loss: 0.6604 - val_categorical_accuracy: 0.3665\n",
            "Epoch 9/10\n",
            "1494/1494 [==============================] - 4s 3ms/step - loss: 0.6426 - categorical_accuracy: 0.3774 - val_loss: 0.6482 - val_categorical_accuracy: 0.3670\n",
            "Epoch 10/10\n",
            "1494/1494 [==============================] - 4s 3ms/step - loss: 0.6413 - categorical_accuracy: 0.3769 - val_loss: 0.6521 - val_categorical_accuracy: 0.3672\n"
          ],
          "name": "stdout"
        }
      ]
    },
    {
      "cell_type": "code",
      "metadata": {
        "colab": {
          "base_uri": "https://localhost:8080/"
        },
        "id": "JX8LhQ7LjSpA",
        "outputId": "a1776c47-0731-4ead-cd5c-be384c55b9d1"
      },
      "source": [
        "scores.append(get_score(shallow_NN))"
      ],
      "execution_count": null,
      "outputs": [
        {
          "output_type": "stream",
          "text": [
            "467/467 [==============================] - 1s 2ms/step - loss: 0.6561 - categorical_accuracy: 0.3687\n",
            "Test Score: 0.6560524702072144\n",
            "Test Accuracy: 0.36868178844451904\n"
          ],
          "name": "stdout"
        }
      ]
    },
    {
      "cell_type": "code",
      "metadata": {
        "colab": {
          "base_uri": "https://localhost:8080/",
          "height": 573
        },
        "id": "bXvyB1jCvCow",
        "outputId": "0bcec715-dd73-40a3-f43e-9fc32a9f9556"
      },
      "source": [
        "plot_results(history[0])"
      ],
      "execution_count": null,
      "outputs": [
        {
          "output_type": "display_data",
          "data": {
            "image/png": "[encoded data removed]",
            "text/plain": [
              "<Figure size 432x288 with 1 Axes>"
            ]
          },
          "metadata": {
            "tags": [],
            "needs_background": "light"
          }
        },
        {
          "output_type": "display_data",
          "data": {
            "image/png": "[encoded data removed]",
            "text/plain": [
              "<Figure size 432x288 with 1 Axes>"
            ]
          },
          "metadata": {
            "tags": [],
            "needs_background": "light"
          }
        }
      ]
    },
    {
      "cell_type": "markdown",
      "metadata": {
        "id": "hiyN3Tby1UYK"
      },
      "source": [
        "## 3.7 Deep Neural Networks"
      ]
    },
    {
      "cell_type": "markdown",
      "metadata": {
        "id": "cF4gzx_E1bTu"
      },
      "source": [
        "### 3.7.1 Convolutional Neural Network"
      ]
    },
    {
      "cell_type": "code",
      "metadata": {
        "id": "ceFMxY5nvcfH"
      },
      "source": [
        "def cnn(input_length, prior = True):\n",
        "    # Add an Input Layer\n",
        "    input_layer = layers.Input((input_length, ))\n",
        "\n",
        "    # Add the word embedding Layer\n",
        "    if prior:\n",
        "      embedding_layer = layers.Embedding(vocab_size, 300, weights=[embedding_matrix], trainable=True)(input_layer)\n",
        "    else:\n",
        "      embedding_layer = layers.Embedding(vocab_size, 300, trainable=True)(input_layer)\n",
        "    \n",
        "    embedding_layer = layers.SpatialDropout1D(0.3)(embedding_layer)\n",
        "\n",
        "    # Add the convolutional Layer\n",
        "    conv_layer = layers.Convolution1D(128, 3, activation=\"relu\")(embedding_layer)\n",
        "\n",
        "    # Add the pooling Layer\n",
        "    pooling_layer = layers.GlobalMaxPool1D()(conv_layer)\n",
        "\n",
        "    # Add the output Layers\n",
        "    output_layer1 = layers.Dense(64, activation=\"relu\")(pooling_layer)\n",
        "    output_layer1 = layers.Dropout(0.25)(output_layer1)\n",
        "    output_layer2 = layers.Dense(3, activation=\"sigmoid\")(output_layer1)\n",
        "\n",
        "    # Compile the model\n",
        "    model = models.Model(inputs=input_layer, outputs=output_layer2)\n",
        "    model.compile(optimizer=optimizers.Adam(), loss=loss_type, metrics = [accuracy_type])\n",
        "    \n",
        "    return model\n"
      ],
      "execution_count": null,
      "outputs": []
    },
    {
      "cell_type": "markdown",
      "metadata": {
        "id": "vfpWHkKTK8NN"
      },
      "source": [
        "Without Prior "
      ]
    },
    {
      "cell_type": "code",
      "metadata": {
        "id": "pjaKoXjS3YkM"
      },
      "source": [
        "cnn_classifier_without_prior = cnn(maxlen, False)"
      ],
      "execution_count": null,
      "outputs": []
    },
    {
      "cell_type": "code",
      "metadata": {
        "colab": {
          "base_uri": "https://localhost:8080/",
          "height": 865
        },
        "id": "J6WiMQ7P77BQ",
        "outputId": "ca373450-6abd-443b-a714-1b644020fc34"
      },
      "source": [
        "print_model_architecture(cnn_classifier_without_prior, 'cnn_classifier_1')"
      ],
      "execution_count": null,
      "outputs": [
        {
          "output_type": "display_data",
          "data": {
            "image/png": "[encoded data removed]",
            "text/plain": [
              "<IPython.core.display.Image object>"
            ]
          },
          "metadata": {
            "tags": []
          }
        }
      ]
    },
    {
      "cell_type": "code",
      "metadata": {
        "id": "BxokKEM98tDj",
        "colab": {
          "base_uri": "https://localhost:8080/"
        },
        "outputId": "d25c6031-01cf-4586-8661-2d4e3d54af88"
      },
      "source": [
        "history_cnn_1 = cnn_classifier_without_prior.fit(train_x, train_y, epochs=10, verbose=1, validation_split=0.2, callbacks=[es])\n",
        "history.append(history_cnn_1)"
      ],
      "execution_count": null,
      "outputs": [
        {
          "output_type": "stream",
          "text": [
            "Epoch 1/10\n",
            "1494/1494 [==============================] - 209s 140ms/step - loss: 0.4664 - categorical_accuracy: 0.6482 - val_loss: 0.4147 - val_categorical_accuracy: 0.7056\n",
            "Epoch 2/10\n",
            "1494/1494 [==============================] - 207s 138ms/step - loss: 0.3221 - categorical_accuracy: 0.7918 - val_loss: 0.3890 - val_categorical_accuracy: 0.7309\n",
            "Epoch 3/10\n",
            "1494/1494 [==============================] - 202s 135ms/step - loss: 0.2031 - categorical_accuracy: 0.8802 - val_loss: 0.4375 - val_categorical_accuracy: 0.7217\n"
          ],
          "name": "stdout"
        }
      ]
    },
    {
      "cell_type": "code",
      "metadata": {
        "colab": {
          "base_uri": "https://localhost:8080/"
        },
        "id": "dZnBdSuIKYwy",
        "outputId": "ffe79f59-c240-49ba-de91-0a008d9f1e7b"
      },
      "source": [
        "scores.append(get_score(cnn_classifier_without_prior))"
      ],
      "execution_count": null,
      "outputs": [
        {
          "output_type": "stream",
          "text": [
            "467/467 [==============================] - 1s 3ms/step - loss: 0.4490 - categorical_accuracy: 0.7123\n",
            "Test Score: 0.44897329807281494\n",
            "Test Accuracy: 0.7123250961303711\n"
          ],
          "name": "stdout"
        }
      ]
    },
    {
      "cell_type": "code",
      "metadata": {
        "colab": {
          "base_uri": "https://localhost:8080/",
          "height": 573
        },
        "id": "Zc8FtyM7Kn3m",
        "outputId": "cb8e0a0d-b54b-48ff-df47-cf1f417c5861"
      },
      "source": [
        "plot_results(history[1])"
      ],
      "execution_count": null,
      "outputs": [
        {
          "output_type": "display_data",
          "data": {
            "image/png": "[encoded data removed]",
            "text/plain": [
              "<Figure size 432x288 with 1 Axes>"
            ]
          },
          "metadata": {
            "tags": [],
            "needs_background": "light"
          }
        },
        {
          "output_type": "display_data",
          "data": {
            "image/png": "[encoded data removed]",
            "text/plain": [
              "<Figure size 432x288 with 1 Axes>"
            ]
          },
          "metadata": {
            "tags": [],
            "needs_background": "light"
          }
        }
      ]
    },
    {
      "cell_type": "markdown",
      "metadata": {
        "id": "CuNLnRowV35k"
      },
      "source": [
        "With Prior of embedding matrix"
      ]
    },
    {
      "cell_type": "code",
      "metadata": {
        "id": "Iivd6xFsV96F"
      },
      "source": [
        "cnn_classifier_with_prior = cnn(maxlen)"
      ],
      "execution_count": null,
      "outputs": []
    },
    {
      "cell_type": "code",
      "metadata": {
        "colab": {
          "base_uri": "https://localhost:8080/"
        },
        "id": "Qu5VO88kYhtH",
        "outputId": "0ca5a8e5-9a19-4c6a-babf-1b4d30e983c2"
      },
      "source": [
        "history_cnn_2 = cnn_classifier_with_prior.fit(train_x, train_y, epochs=10, verbose=1, validation_split=0.2, callbacks=[es])\n",
        "history.append(history_cnn_2)"
      ],
      "execution_count": null,
      "outputs": [
        {
          "output_type": "stream",
          "text": [
            "Epoch 1/10\n",
            "1494/1494 [==============================] - 203s 136ms/step - loss: 0.4641 - categorical_accuracy: 0.6487 - val_loss: 0.3953 - val_categorical_accuracy: 0.7220\n",
            "Epoch 2/10\n",
            "1494/1494 [==============================] - 199s 134ms/step - loss: 0.3362 - categorical_accuracy: 0.7770 - val_loss: 0.3855 - val_categorical_accuracy: 0.7321\n",
            "Epoch 3/10\n",
            "1494/1494 [==============================] - 200s 134ms/step - loss: 0.2288 - categorical_accuracy: 0.8605 - val_loss: 0.4183 - val_categorical_accuracy: 0.7429\n"
          ],
          "name": "stdout"
        }
      ]
    },
    {
      "cell_type": "code",
      "metadata": {
        "colab": {
          "base_uri": "https://localhost:8080/"
        },
        "id": "YSZzcl3PZEGP",
        "outputId": "a31423eb-c44d-4c65-8471-19044bc58511"
      },
      "source": [
        "scores.append(get_score(cnn_classifier_with_prior))"
      ],
      "execution_count": null,
      "outputs": [
        {
          "output_type": "stream",
          "text": [
            "467/467 [==============================] - 1s 3ms/step - loss: 0.4266 - categorical_accuracy: 0.7370\n",
            "Test Score: 0.4266324043273926\n",
            "Test Accuracy: 0.7369619011878967\n"
          ],
          "name": "stdout"
        }
      ]
    },
    {
      "cell_type": "code",
      "metadata": {
        "colab": {
          "base_uri": "https://localhost:8080/",
          "height": 573
        },
        "id": "tnO6FeU4Z-8I",
        "outputId": "6d39f864-015f-4ad6-8a8f-f53aaf3dcbb0"
      },
      "source": [
        "plot_results(history[2])"
      ],
      "execution_count": null,
      "outputs": [
        {
          "output_type": "display_data",
          "data": {
            "image/png": "[encoded data removed]",
            "text/plain": [
              "<Figure size 432x288 with 1 Axes>"
            ]
          },
          "metadata": {
            "tags": [],
            "needs_background": "light"
          }
        },
        {
          "output_type": "display_data",
          "data": {
            "image/png": "[encoded data removed]",
            "text/plain": [
              "<Figure size 432x288 with 1 Axes>"
            ]
          },
          "metadata": {
            "tags": [],
            "needs_background": "light"
          }
        }
      ]
    },
    {
      "cell_type": "markdown",
      "metadata": {
        "id": "FEyP-Ltxc24M"
      },
      "source": [
        "### 3.7.2 Recurrent Neural Network – LSTM"
      ]
    },
    {
      "cell_type": "code",
      "metadata": {
        "id": "K3n9srvBcOyt"
      },
      "source": [
        "def rnn_lstm(input_length):\n",
        "  # Add an Input Layer\n",
        "  input_layer = layers.Input((input_length, ))\n",
        "\n",
        "  # Add the word embedding Layer\n",
        "  embedding_layer = layers.Embedding(vocab_size, 300, weights=[embedding_matrix], trainable=True)(input_layer)\n",
        "  embedding_layer = layers.SpatialDropout1D(0.3)(embedding_layer)\n",
        "\n",
        "  # Add the LSTM Layer\n",
        "  lstm_layer = layers.LSTM(128)(embedding_layer)\n",
        "\n",
        "  # Add the output Layers\n",
        "  output_layer1 = layers.Dense(128, activation=\"relu\")(lstm_layer)\n",
        "  output_layer1 = layers.Dropout(0.25)(output_layer1)\n",
        "  output_layer2 = layers.Dense(3, activation=\"sigmoid\")(output_layer1)\n",
        "\n",
        "  # Compile the model\n",
        "  model = models.Model(inputs=input_layer, outputs=output_layer2)\n",
        "  model.compile(optimizer=optimizers.Adam(), loss=loss_type, metrics=[accuracy_type])\n",
        "  \n",
        "  return model\n"
      ],
      "execution_count": null,
      "outputs": []
    },
    {
      "cell_type": "code",
      "metadata": {
        "id": "pxVrclEtdvwC"
      },
      "source": [
        "rnn_lstm_classifier = rnn_lstm(maxlen)"
      ],
      "execution_count": null,
      "outputs": []
    },
    {
      "cell_type": "code",
      "metadata": {
        "colab": {
          "base_uri": "https://localhost:8080/",
          "height": 754
        },
        "id": "WeYBlL-id7G2",
        "outputId": "b3b18dc8-2fc9-45a9-ddb8-c43338ff4926"
      },
      "source": [
        "print_model_architecture(rnn_lstm_classifier, 'rnn_lstm_classifier')"
      ],
      "execution_count": null,
      "outputs": [
        {
          "output_type": "display_data",
          "data": {
            "image/png": "[encoded data removed]",
            "text/plain": [
              "<IPython.core.display.Image object>"
            ]
          },
          "metadata": {
            "tags": []
          }
        }
      ]
    },
    {
      "cell_type": "code",
      "metadata": {
        "colab": {
          "base_uri": "https://localhost:8080/"
        },
        "id": "CfUnb2ReeI44",
        "outputId": "1a2de37d-c091-478e-d877-81beed019e08"
      },
      "source": [
        "history_rnn_lstm = rnn_lstm_classifier.fit(train_x, train_y, epochs=10, verbose=1, validation_split=0.2, callbacks=[es])\n",
        "history.append(history_rnn_lstm)"
      ],
      "execution_count": null,
      "outputs": [
        {
          "output_type": "stream",
          "text": [
            "Epoch 1/10\n",
            "1494/1494 [==============================] - 209s 140ms/step - loss: 0.6306 - categorical_accuracy: 0.4020 - val_loss: 0.6074 - val_categorical_accuracy: 0.5065\n",
            "Epoch 2/10\n",
            "1494/1494 [==============================] - 210s 141ms/step - loss: 0.4482 - categorical_accuracy: 0.6741 - val_loss: 0.3958 - val_categorical_accuracy: 0.7217\n",
            "Epoch 3/10\n",
            "1494/1494 [==============================] - 207s 139ms/step - loss: 0.3232 - categorical_accuracy: 0.7885 - val_loss: 0.4167 - val_categorical_accuracy: 0.7350\n"
          ],
          "name": "stdout"
        }
      ]
    },
    {
      "cell_type": "code",
      "metadata": {
        "colab": {
          "base_uri": "https://localhost:8080/"
        },
        "id": "IAWhJJQxfSG2",
        "outputId": "95b6c999-30a3-4f52-9ca0-8b3b1a830af0"
      },
      "source": [
        "scores.append(get_score(rnn_lstm_classifier))"
      ],
      "execution_count": null,
      "outputs": [
        {
          "output_type": "stream",
          "text": [
            "467/467 [==============================] - 2s 4ms/step - loss: 0.4201 - categorical_accuracy: 0.7277\n",
            "Test Score: 0.42008018493652344\n",
            "Test Accuracy: 0.7277231216430664\n"
          ],
          "name": "stdout"
        }
      ]
    },
    {
      "cell_type": "code",
      "metadata": {
        "colab": {
          "base_uri": "https://localhost:8080/",
          "height": 573
        },
        "id": "Qun9je8Xgqmg",
        "outputId": "d241d393-4b79-4c1a-f97b-060ee7095a40"
      },
      "source": [
        "plot_results(history[3])"
      ],
      "execution_count": null,
      "outputs": [
        {
          "output_type": "display_data",
          "data": {
            "image/png": "[encoded data removed]",
            "text/plain": [
              "<Figure size 432x288 with 1 Axes>"
            ]
          },
          "metadata": {
            "tags": [],
            "needs_background": "light"
          }
        },
        {
          "output_type": "display_data",
          "data": {
            "image/png": "[encoded data removed]",
            "text/plain": [
              "<Figure size 432x288 with 1 Axes>"
            ]
          },
          "metadata": {
            "tags": [],
            "needs_background": "light"
          }
        }
      ]
    },
    {
      "cell_type": "markdown",
      "metadata": {
        "id": "c4tzEK0ig5fQ"
      },
      "source": [
        "### 3.7.3 Recurrent Neural Network – GRU"
      ]
    },
    {
      "cell_type": "code",
      "metadata": {
        "id": "bAG3uRiRg-CU"
      },
      "source": [
        "def rnn_gru(input_length):\n",
        "  # Add an Input Layer\n",
        "  input_layer = layers.Input((input_length, ))\n",
        "\n",
        "  # Add the word embedding Layer\n",
        "  embedding_layer = layers.Embedding(vocab_size, 300, weights=[embedding_matrix], trainable=True)(input_layer)\n",
        "  embedding_layer = layers.SpatialDropout1D(0.3)(embedding_layer)\n",
        "\n",
        "  # Add the GRU Layer\n",
        "  lstm_layer = layers.GRU(128)(embedding_layer)\n",
        "\n",
        "  # Add the output Layers\n",
        "  output_layer1 = layers.Dense(128, activation=\"relu\")(lstm_layer)\n",
        "  output_layer1 = layers.Dropout(0.25)(output_layer1)\n",
        "  output_layer2 = layers.Dense(3, activation=\"sigmoid\")(output_layer1)\n",
        "\n",
        "  # Compile the model\n",
        "  model = models.Model(inputs=input_layer, outputs=output_layer2)\n",
        "  model.compile(optimizer=optimizers.Adam(), loss=loss_type, metrics=[accuracy_type])\n",
        "  \n",
        "  return model"
      ],
      "execution_count": null,
      "outputs": []
    },
    {
      "cell_type": "code",
      "metadata": {
        "id": "B5FQSlFnknRd"
      },
      "source": [
        "rnn_gru_classifier = rnn_gru(maxlen)"
      ],
      "execution_count": null,
      "outputs": []
    },
    {
      "cell_type": "code",
      "metadata": {
        "colab": {
          "base_uri": "https://localhost:8080/",
          "height": 754
        },
        "id": "p9X5ol7zkx32",
        "outputId": "2cb6e625-ba5d-42fc-d96d-32ebe49d2730"
      },
      "source": [
        "print_model_architecture(rnn_gru_classifier, 'rnn_gru_classifier')"
      ],
      "execution_count": null,
      "outputs": [
        {
          "output_type": "display_data",
          "data": {
            "image/png": "[encoded data removed]",
            "text/plain": [
              "<IPython.core.display.Image object>"
            ]
          },
          "metadata": {
            "tags": []
          }
        }
      ]
    },
    {
      "cell_type": "code",
      "metadata": {
        "colab": {
          "base_uri": "https://localhost:8080/"
        },
        "id": "lMuluizwk8Ki",
        "outputId": "95cbd73e-9a3d-4fbf-f00e-2d21f2cd380b"
      },
      "source": [
        "history_rnn_gru = rnn_gru_classifier.fit(train_x, train_y, epochs=10, verbose=1, validation_split=0.2, callbacks=[es])\n",
        "history.append(history_rnn_gru)"
      ],
      "execution_count": null,
      "outputs": [
        {
          "output_type": "stream",
          "text": [
            "Epoch 1/10\n",
            "1494/1494 [==============================] - 208s 140ms/step - loss: 0.6263 - categorical_accuracy: 0.4039 - val_loss: 0.4717 - val_categorical_accuracy: 0.6487\n",
            "Epoch 2/10\n",
            "1494/1494 [==============================] - 208s 139ms/step - loss: 0.4041 - categorical_accuracy: 0.7143 - val_loss: 0.3839 - val_categorical_accuracy: 0.7374\n",
            "Epoch 3/10\n",
            "1494/1494 [==============================] - 210s 141ms/step - loss: 0.2848 - categorical_accuracy: 0.8173 - val_loss: 0.4000 - val_categorical_accuracy: 0.7357\n"
          ],
          "name": "stdout"
        }
      ]
    },
    {
      "cell_type": "code",
      "metadata": {
        "colab": {
          "base_uri": "https://localhost:8080/"
        },
        "id": "nOUpJgqkllKZ",
        "outputId": "0c50f964-ea4a-49f7-8e22-ad0c535b0c13"
      },
      "source": [
        "scores.append(get_score(rnn_gru_classifier))"
      ],
      "execution_count": null,
      "outputs": [
        {
          "output_type": "stream",
          "text": [
            "467/467 [==============================] - 2s 4ms/step - loss: 0.3996 - categorical_accuracy: 0.7335\n",
            "Test Score: 0.39956218004226685\n",
            "Test Accuracy: 0.7334806323051453\n"
          ],
          "name": "stdout"
        }
      ]
    },
    {
      "cell_type": "code",
      "metadata": {
        "colab": {
          "base_uri": "https://localhost:8080/",
          "height": 573
        },
        "id": "EB3kv1V3lu5i",
        "outputId": "a34bf54d-96fb-4dc1-d31b-6d095fc5119c"
      },
      "source": [
        "plot_results(history[4])"
      ],
      "execution_count": null,
      "outputs": [
        {
          "output_type": "display_data",
          "data": {
            "image/png": "[encoded data removed]",
            "text/plain": [
              "<Figure size 432x288 with 1 Axes>"
            ]
          },
          "metadata": {
            "tags": [],
            "needs_background": "light"
          }
        },
        {
          "output_type": "display_data",
          "data": {
            "image/png": "[encoded data removed]",
            "text/plain": [
              "<Figure size 432x288 with 1 Axes>"
            ]
          },
          "metadata": {
            "tags": [],
            "needs_background": "light"
          }
        }
      ]
    },
    {
      "cell_type": "markdown",
      "metadata": {
        "id": "iWsHHFHJmdHC"
      },
      "source": [
        "###3.7.4 Bidirectional RNN"
      ]
    },
    {
      "cell_type": "code",
      "metadata": {
        "id": "jOttRc0ambpr"
      },
      "source": [
        "def bidirectional_rnn(input_length):\n",
        "  # Add an Input Layer\n",
        "  input_layer = layers.Input((input_length, ))\n",
        "\n",
        "  # Add the word embedding Layer\n",
        "  embedding_layer = layers.Embedding(vocab_size, 300, weights=[embedding_matrix], trainable=True)(input_layer)\n",
        "  embedding_layer = layers.SpatialDropout1D(0.3)(embedding_layer)\n",
        "\n",
        "  # Add the LSTM Layer\n",
        "  lstm_layer = layers.Bidirectional(layers.GRU(128))(embedding_layer)\n",
        "\n",
        "  # Add the output Layers\n",
        "  output_layer1 = layers.Dense(128, activation=\"relu\")(lstm_layer)\n",
        "  output_layer1 = layers.Dropout(0.25)(output_layer1)\n",
        "  output_layer2 = layers.Dense(3, activation=\"sigmoid\")(output_layer1)\n",
        "\n",
        "  # Compile the model\n",
        "  model = models.Model(inputs=input_layer, outputs=output_layer2)\n",
        "  model.compile(optimizer=optimizers.Adam(), loss=loss_type, metrics=[accuracy_type])\n",
        "  \n",
        "  return model\n"
      ],
      "execution_count": null,
      "outputs": []
    },
    {
      "cell_type": "code",
      "metadata": {
        "id": "2zXG-QHlpzT2"
      },
      "source": [
        "bidirectional_rnn_classifier = bidirectional_rnn(maxlen)"
      ],
      "execution_count": null,
      "outputs": []
    },
    {
      "cell_type": "code",
      "metadata": {
        "colab": {
          "base_uri": "https://localhost:8080/",
          "height": 754
        },
        "id": "C0Wy_7qNp_tm",
        "outputId": "f1786fb0-0494-46bc-f133-12fff0f2e110"
      },
      "source": [
        "print_model_architecture(bidirectional_rnn_classifier, 'bidirectional_rnn_classifier')"
      ],
      "execution_count": null,
      "outputs": [
        {
          "output_type": "display_data",
          "data": {
            "image/png": "[encoded data removed]",
            "text/plain": [
              "<IPython.core.display.Image object>"
            ]
          },
          "metadata": {
            "tags": []
          }
        }
      ]
    },
    {
      "cell_type": "code",
      "metadata": {
        "colab": {
          "base_uri": "https://localhost:8080/"
        },
        "id": "T4WGgjtDqLGx",
        "outputId": "1133fed3-53f1-42f1-db9f-46a8a87fc5f6"
      },
      "source": [
        "history_bidirectional_rnn = bidirectional_rnn_classifier.fit(train_x, train_y, epochs=10, verbose=1, validation_split=0.2, callbacks=[es])\n",
        "history.append(history_bidirectional_rnn)"
      ],
      "execution_count": null,
      "outputs": [
        {
          "output_type": "stream",
          "text": [
            "Epoch 1/10\n",
            "1494/1494 [==============================] - 218s 146ms/step - loss: 0.4504 - categorical_accuracy: 0.6578 - val_loss: 0.3883 - val_categorical_accuracy: 0.7281\n",
            "Epoch 2/10\n",
            "1494/1494 [==============================] - 214s 143ms/step - loss: 0.3223 - categorical_accuracy: 0.7881 - val_loss: 0.3827 - val_categorical_accuracy: 0.7405\n",
            "Epoch 3/10\n",
            "1494/1494 [==============================] - 214s 143ms/step - loss: 0.2242 - categorical_accuracy: 0.8626 - val_loss: 0.4251 - val_categorical_accuracy: 0.7356\n"
          ],
          "name": "stdout"
        }
      ]
    },
    {
      "cell_type": "code",
      "metadata": {
        "id": "YpGw1js3qr2C",
        "colab": {
          "base_uri": "https://localhost:8080/"
        },
        "outputId": "18ccb3a4-8b45-45a1-af49-0b120da3e8a5"
      },
      "source": [
        "scores.append(get_score(bidirectional_rnn_classifier))"
      ],
      "execution_count": null,
      "outputs": [
        {
          "output_type": "stream",
          "text": [
            "467/467 [==============================] - 3s 6ms/step - loss: 0.4365 - categorical_accuracy: 0.7271\n",
            "Test Score: 0.4365091919898987\n",
            "Test Accuracy: 0.7270536422729492\n"
          ],
          "name": "stdout"
        }
      ]
    },
    {
      "cell_type": "code",
      "metadata": {
        "id": "UlHkmFQRq2wG",
        "colab": {
          "base_uri": "https://localhost:8080/",
          "height": 573
        },
        "outputId": "c5246e3a-0dc8-4451-931b-41909d98be3a"
      },
      "source": [
        "plot_results(history[5])"
      ],
      "execution_count": null,
      "outputs": [
        {
          "output_type": "display_data",
          "data": {
            "image/png": "[encoded data removed]",
            "text/plain": [
              "<Figure size 432x288 with 1 Axes>"
            ]
          },
          "metadata": {
            "tags": [],
            "needs_background": "light"
          }
        },
        {
          "output_type": "display_data",
          "data": {
            "image/png": "[encoded data removed]",
            "text/plain": [
              "<Figure size 432x288 with 1 Axes>"
            ]
          },
          "metadata": {
            "tags": [],
            "needs_background": "light"
          }
        }
      ]
    },
    {
      "cell_type": "markdown",
      "metadata": {
        "id": "HpPodt3Lq9LC"
      },
      "source": [
        "### 3.7.5 Recurrent Convolutional Neural Network"
      ]
    },
    {
      "cell_type": "code",
      "metadata": {
        "id": "I1lPm-51q7_O"
      },
      "source": [
        "def rcnn(input_length):\n",
        "  # Add an Input Layer\n",
        "  input_layer = layers.Input((input_length, ))\n",
        "\n",
        "  # Add the word embedding Layer\n",
        "  embedding_layer = layers.Embedding(vocab_size, 300, weights=[embedding_matrix], trainable=True)(input_layer)\n",
        "  embedding_layer = layers.SpatialDropout1D(0.3)(embedding_layer)\n",
        "  \n",
        "  # Add the recurrent layer\n",
        "  rnn_layer = layers.Bidirectional(layers.GRU(128, return_sequences=True))(embedding_layer)\n",
        "  \n",
        "  # Add the convolutional Layer\n",
        "  conv_layer = layers.Convolution1D(128, 3, activation=\"relu\")(embedding_layer)\n",
        "\n",
        "  # Add the pooling Layer\n",
        "  pooling_layer = layers.GlobalMaxPool1D()(conv_layer)\n",
        "\n",
        "  # Add the output Layers\n",
        "  output_layer1 = layers.Dense(128, activation=\"relu\")(pooling_layer)\n",
        "  output_layer1 = layers.Dropout(0.25)(output_layer1)\n",
        "  output_layer2 = layers.Dense(3, activation=\"sigmoid\")(output_layer1)\n",
        "\n",
        "  # Compile the model\n",
        "  model = models.Model(inputs=input_layer, outputs=output_layer2)\n",
        "  model.compile(optimizer=optimizers.Adam(), loss=loss_type, metrics = [accuracy_type])\n",
        "  \n",
        "  return model\n"
      ],
      "execution_count": null,
      "outputs": []
    },
    {
      "cell_type": "code",
      "metadata": {
        "id": "V7Acf1e2s_rU"
      },
      "source": [
        "rcnn_classifier = rcnn(maxlen)"
      ],
      "execution_count": null,
      "outputs": []
    },
    {
      "cell_type": "code",
      "metadata": {
        "id": "bTdpEJ1TtFvu",
        "colab": {
          "base_uri": "https://localhost:8080/",
          "height": 865
        },
        "outputId": "47f42c7b-c59b-4c81-ffe7-9e41eba4ade8"
      },
      "source": [
        "print_model_architecture(rcnn_classifier, 'rcnn_classifier')"
      ],
      "execution_count": null,
      "outputs": [
        {
          "output_type": "display_data",
          "data": {
            "image/png": "[encoded data removed]",
            "text/plain": [
              "<IPython.core.display.Image object>"
            ]
          },
          "metadata": {
            "tags": []
          }
        }
      ]
    },
    {
      "cell_type": "code",
      "metadata": {
        "id": "zCMLS6zUtjRs",
        "colab": {
          "base_uri": "https://localhost:8080/"
        },
        "outputId": "67f7f942-eb45-4d00-a30f-2ab660622963"
      },
      "source": [
        "history_rcnn = rcnn_classifier.fit(train_x, train_y, epochs=10, verbose=1, validation_split=0.2, callbacks=[es])\n",
        "history.append(history_rcnn)"
      ],
      "execution_count": null,
      "outputs": [
        {
          "output_type": "stream",
          "text": [
            "Epoch 1/10\n",
            "1494/1494 [==============================] - 204s 136ms/step - loss: 0.4571 - categorical_accuracy: 0.6577 - val_loss: 0.3972 - val_categorical_accuracy: 0.7153\n",
            "Epoch 2/10\n",
            "1494/1494 [==============================] - 201s 135ms/step - loss: 0.3258 - categorical_accuracy: 0.7839 - val_loss: 0.3757 - val_categorical_accuracy: 0.7440\n",
            "Epoch 3/10\n",
            "1494/1494 [==============================] - 200s 134ms/step - loss: 0.2181 - categorical_accuracy: 0.8666 - val_loss: 0.4096 - val_categorical_accuracy: 0.7474\n"
          ],
          "name": "stdout"
        }
      ]
    },
    {
      "cell_type": "code",
      "metadata": {
        "id": "UEw4GchruVJL",
        "colab": {
          "base_uri": "https://localhost:8080/"
        },
        "outputId": "3fb55ebf-1786-41c3-f8e5-f97f2fdb1969"
      },
      "source": [
        "scores.append(get_score(rcnn_classifier))"
      ],
      "execution_count": null,
      "outputs": [
        {
          "output_type": "stream",
          "text": [
            "467/467 [==============================] - 1s 3ms/step - loss: 0.4180 - categorical_accuracy: 0.7355\n",
            "Test Score: 0.41797828674316406\n",
            "Test Accuracy: 0.7354890704154968\n"
          ],
          "name": "stdout"
        }
      ]
    },
    {
      "cell_type": "code",
      "metadata": {
        "id": "AEcfnRuju8Qh",
        "colab": {
          "base_uri": "https://localhost:8080/",
          "height": 573
        },
        "outputId": "46b8af3e-e094-4816-bc6d-7c4d97bf19de"
      },
      "source": [
        "plot_results(history[6])"
      ],
      "execution_count": null,
      "outputs": [
        {
          "output_type": "display_data",
          "data": {
            "image/png": "[encoded data removed]",
            "text/plain": [
              "<Figure size 432x288 with 1 Axes>"
            ]
          },
          "metadata": {
            "tags": [],
            "needs_background": "light"
          }
        },
        {
          "output_type": "display_data",
          "data": {
            "image/png": "[encoded data removed]",
            "text/plain": [
              "<Figure size 432x288 with 1 Axes>"
            ]
          },
          "metadata": {
            "tags": [],
            "needs_background": "light"
          }
        }
      ]
    },
    {
      "cell_type": "markdown",
      "metadata": {
        "id": "YyVSKpHkxrge"
      },
      "source": [
        "## Let's have a comparative analysis of all the Neural networks"
      ]
    },
    {
      "cell_type": "code",
      "metadata": {
        "id": "IbCN-uV4zIf1"
      },
      "source": [
        "test_accuracy = [round(i[1]*100,2) for i in scores]"
      ],
      "execution_count": null,
      "outputs": []
    },
    {
      "cell_type": "code",
      "metadata": {
        "id": "3Hlns3Cy1cuD"
      },
      "source": [
        "model_list = ['Shallow NN', 'CNN (without prior)', 'CNN (with prior)', 'RNN - LSTM', 'RNN - GRU', 'Bidirectional RNN', 'RCNN']"
      ],
      "execution_count": null,
      "outputs": []
    },
    {
      "cell_type": "code",
      "metadata": {
        "id": "npQn7Wxl2ON7",
        "colab": {
          "base_uri": "https://localhost:8080/",
          "height": 513
        },
        "outputId": "2553f8cd-d65a-4cf4-be89-8c1e366d7751"
      },
      "source": [
        "plt.figure(figsize=[12,8])\n",
        "plt.plot(model_list, test_accuracy, '-bo')\n",
        "plt.xlabel('NN type')\n",
        "plt.ylabel('Accuracy on Test set (%)')\n",
        "plt.title('Comparative study of various NNs')\n",
        "plt.show()"
      ],
      "execution_count": null,
      "outputs": [
        {
          "output_type": "display_data",
          "data": {
            "image/png": "[encoded data removed]",
            "text/plain": [
              "<Figure size 864x576 with 1 Axes>"
            ]
          },
          "metadata": {
            "tags": [],
            "needs_background": "light"
          }
        }
      ]
    }
  ]
}